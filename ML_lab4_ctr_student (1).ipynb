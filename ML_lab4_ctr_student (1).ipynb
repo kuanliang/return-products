{
 "cells": [
  {
   "cell_type": "markdown",
   "metadata": {},
   "source": [
    "![ML Logo](http://spark-mooc.github.io/web-assets/images/CS190.1x_Banner_300.png)\n",
    "# **Click-Through Rate Prediction Lab**\n",
    "#### This lab covers the steps for creating a click-through rate (CTR) prediction pipeline.  You will work with the [Criteo Labs](http://labs.criteo.com/) dataset that was used for a recent [Kaggle competition](https://www.kaggle.com/c/criteo-display-ad-challenge).\n",
    "#### ** This lab will cover: **\n",
    "+  ####*Part 1:* Featurize categorical data using one-hot-encoding (OHE)\n",
    "+  ####*Part 2:* Construct an OHE dictionary\n",
    "+  ####*Part 3:* Parse CTR data and generate OHE features\n",
    " + #### *Visualization 1:* Feature frequency\n",
    "+  ####*Part 4:* CTR prediction and logloss evaluation\n",
    " + #### *Visualization 2:* ROC curve\n",
    "+  ####*Part 5:* Reduce feature dimension via feature hashing\n",
    " + #### *Visualization 3:* Hyperparameter heat map\n",
    " \n",
    "#### Note that, for reference, you can look up the details of the relevant Spark methods in [Spark's Python API](https://spark.apache.org/docs/latest/api/python/pyspark.html#pyspark.RDD) and the relevant NumPy methods in the [NumPy Reference](http://docs.scipy.org/doc/numpy/reference/index.html)"
   ]
  },
  {
   "cell_type": "code",
   "execution_count": 1,
   "metadata": {
    "collapsed": false
   },
   "outputs": [],
   "source": [
    "labVersion = 'cs190_week4_v_1_3'"
   ]
  },
  {
   "cell_type": "code",
   "execution_count": 2,
   "metadata": {
    "collapsed": true
   },
   "outputs": [],
   "source": [
    "import test_helper"
   ]
  },
  {
   "cell_type": "code",
   "execution_count": 3,
   "metadata": {
    "collapsed": false
   },
   "outputs": [
    {
     "name": "stderr",
     "output_type": "stream",
     "text": [
      "/Users/hadoop1/anaconda/lib/python2.7/site-packages/pandas/computation/__init__.py:19: UserWarning: The installed version of numexpr 2.4.4 is not supported in pandas and will be not be used\n",
      "\n",
      "  UserWarning)\n"
     ]
    }
   ],
   "source": [
    "#Import necessary libraries\n",
    "\n",
    "import findspark\n",
    "findspark.init('/Users/hadoop1/srv/spark')\n",
    "import pyspark\n",
    "from pyspark import SparkContext\n",
    "from pyspark.sql import SQLContext, HiveContext, Row\n",
    "import pandas as pd\n",
    "sc = pyspark.SparkContext()\n",
    "hc = HiveContext(sc)"
   ]
  },
  {
   "cell_type": "markdown",
   "metadata": {},
   "source": [
    "### ** Part 1: Featurize categorical data using one-hot-encoding **"
   ]
  },
  {
   "cell_type": "markdown",
   "metadata": {},
   "source": [
    "#### ** (1a) One-hot-encoding **\n",
    "#### We would like to develop code to convert categorical features to numerical ones, and to build intuition, we will work with a sample unlabeled dataset with three data points, with each data point representing an animal. The first feature indicates the type of animal (bear, cat, mouse); the second feature describes the animal's color (black, tabby); and the third (optional) feature describes what the animal eats (mouse, salmon).\n",
    "#### In a one-hot-encoding (OHE) scheme, we want to represent each tuple of `(featureID, category)` via its own binary feature.  We can do this in Python by creating a dictionary that maps each tuple to a distinct integer, where the integer corresponds to a binary feature. To start, manually enter the entries in the OHE dictionary associated with the sample dataset by mapping the tuples to consecutive integers starting from zero,  ordering the tuples first by featureID and next by category.\n",
    "#### Later in this lab, we'll use OHE dictionaries to transform data points into compact lists of features that can be used in machine learning algorithms."
   ]
  },
  {
   "cell_type": "code",
   "execution_count": 33,
   "metadata": {
    "collapsed": false
   },
   "outputs": [],
   "source": [
    "# Data for manual OHE\n",
    "# Note: the first data point does not include any value for the optional third feature\n",
    "sampleOne = [(0, 'mouse'), (1, 'black')]\n",
    "sampleTwo = [(0, 'cat'), (1, 'tabby'), (2, 'mouse')]\n",
    "sampleThree =  [(0, 'bear'), (1, 'black'), (2, 'salmon')]\n",
    "sampleDataRDD = sc.parallelize([sampleOne, sampleTwo, sampleThree])"
   ]
  },
  {
   "cell_type": "code",
   "execution_count": 34,
   "metadata": {
    "collapsed": false
   },
   "outputs": [
    {
     "data": {
      "text/plain": [
       "[[(0, 'mouse'), (1, 'black')],\n",
       " [(0, 'cat'), (1, 'tabby'), (2, 'mouse')],\n",
       " [(0, 'bear'), (1, 'black'), (2, 'salmon')]]"
      ]
     },
     "execution_count": 34,
     "metadata": {},
     "output_type": "execute_result"
    }
   ],
   "source": [
    "sampleDataRDD.collect()"
   ]
  },
  {
   "cell_type": "code",
   "execution_count": 35,
   "metadata": {
    "collapsed": false
   },
   "outputs": [],
   "source": [
    "# TODO: Replace <FILL IN> with appropriate code\n",
    "sampleOHEDictManual = {}\n",
    "sampleOHEDictManual[(0,'bear')] = 0\n",
    "sampleOHEDictManual[(0,'cat')] = 1\n",
    "sampleOHEDictManual[(0,'mouse')] = 2\n",
    "sampleOHEDictManual[(1, 'black')] = 3\n",
    "sampleOHEDictManual[(1, 'tabby')] = 4\n",
    "sampleOHEDictManual[(2, 'mouse')] = 5\n",
    "sampleOHEDictManual[(2, 'salmon')] = 6"
   ]
  },
  {
   "cell_type": "code",
   "execution_count": 37,
   "metadata": {
    "collapsed": false
   },
   "outputs": [
    {
     "data": {
      "text/plain": [
       "{(0, 'bear'): 0,\n",
       " (0, 'cat'): 1,\n",
       " (0, 'mouse'): 2,\n",
       " (1, 'black'): 3,\n",
       " (1, 'tabby'): 4,\n",
       " (2, 'mouse'): 5,\n",
       " (2, 'salmon'): 6}"
      ]
     },
     "execution_count": 37,
     "metadata": {},
     "output_type": "execute_result"
    }
   ],
   "source": [
    "sampleOHEDictManual"
   ]
  },
  {
   "cell_type": "code",
   "execution_count": 38,
   "metadata": {
    "collapsed": false
   },
   "outputs": [
    {
     "name": "stdout",
     "output_type": "stream",
     "text": [
      "1 test passed.\n",
      "1 test passed.\n",
      "1 test passed.\n",
      "1 test passed.\n",
      "1 test passed.\n",
      "1 test passed.\n",
      "1 test passed.\n",
      "1 test passed.\n"
     ]
    }
   ],
   "source": [
    "# TEST One-hot-encoding (1a)\n",
    "from test_helper import Test\n",
    "\n",
    "Test.assertEqualsHashed(sampleOHEDictManual[(0,'bear')],\n",
    "                        'b6589fc6ab0dc82cf12099d1c2d40ab994e8410c',\n",
    "                        \"incorrect value for sampleOHEDictManual[(0,'bear')]\")\n",
    "Test.assertEqualsHashed(sampleOHEDictManual[(0,'cat')],\n",
    "                        '356a192b7913b04c54574d18c28d46e6395428ab',\n",
    "                        \"incorrect value for sampleOHEDictManual[(0,'cat')]\")\n",
    "Test.assertEqualsHashed(sampleOHEDictManual[(0,'mouse')],\n",
    "                        'da4b9237bacccdf19c0760cab7aec4a8359010b0',\n",
    "                        \"incorrect value for sampleOHEDictManual[(0,'mouse')]\")\n",
    "Test.assertEqualsHashed(sampleOHEDictManual[(1,'black')],\n",
    "                        '77de68daecd823babbb58edb1c8e14d7106e83bb',\n",
    "                        \"incorrect value for sampleOHEDictManual[(1,'black')]\")\n",
    "Test.assertEqualsHashed(sampleOHEDictManual[(1,'tabby')],\n",
    "                        '1b6453892473a467d07372d45eb05abc2031647a',\n",
    "                        \"incorrect value for sampleOHEDictManual[(1,'tabby')]\")\n",
    "Test.assertEqualsHashed(sampleOHEDictManual[(2,'mouse')],\n",
    "                        'ac3478d69a3c81fa62e60f5c3696165a4e5e6ac4',\n",
    "                        \"incorrect value for sampleOHEDictManual[(2,'mouse')]\")\n",
    "Test.assertEqualsHashed(sampleOHEDictManual[(2,'salmon')],\n",
    "                        'c1dfd96eea8cc2b62785275bca38ac261256e278',\n",
    "                        \"incorrect value for sampleOHEDictManual[(2,'salmon')]\")\n",
    "Test.assertEquals(len(sampleOHEDictManual.keys()), 7,\n",
    "                  'incorrect number of keys in sampleOHEDictManual')"
   ]
  },
  {
   "cell_type": "markdown",
   "metadata": {},
   "source": [
    "#### ** (1b) Sparse vectors **\n",
    "#### Data points can typically be represented with a small number of non-zero OHE features relative to the total number of features that occur in the dataset.  By leveraging this sparsity and using sparse vector representations of OHE data, we can reduce storage and computational burdens.  Below are a few sample vectors represented as dense numpy arrays.  Use [SparseVector](https://spark.apache.org/docs/latest/api/python/pyspark.mllib.html#pyspark.mllib.linalg.SparseVector) to represent them in a sparse fashion, and verify that both the sparse and dense representations yield the same results when computing [dot products](http://en.wikipedia.org/wiki/Dot_product) (we will later use MLlib to train classifiers via gradient descent, and MLlib will need to compute dot products between SparseVectors and dense parameter vectors).\n",
    "#### Use `SparseVector(size, *args)` to create a new sparse vector where size is the length of the vector and args is either a dictionary, a list of (index, value) pairs, or two separate arrays of indices and values (sorted by index).  You'll need to create a sparse vector representation of each dense vector `aDense` and `bDense`."
   ]
  },
  {
   "cell_type": "code",
   "execution_count": 39,
   "metadata": {
    "collapsed": false
   },
   "outputs": [],
   "source": [
    "import numpy as np\n",
    "from pyspark.mllib.linalg import SparseVector"
   ]
  },
  {
   "cell_type": "code",
   "execution_count": 40,
   "metadata": {
    "collapsed": false
   },
   "outputs": [
    {
     "name": "stdout",
     "output_type": "stream",
     "text": [
      "7.3\n",
      "7.3\n",
      "-0.5\n",
      "-0.5\n"
     ]
    }
   ],
   "source": [
    "# TODO: Replace <FILL IN> with appropriate code\n",
    "aDense = np.array([0., 3., 0., 4.])\n",
    "aSparse = SparseVector(len(aDense), [1,3], [3.,4.])\n",
    "\n",
    "bDense = np.array([0., 0., 0., 1.])\n",
    "bSparse = SparseVector(len(bDense), [3], [1.])\n",
    "\n",
    "w = np.array([0.4, 3.1, -1.4, -.5])\n",
    "print aDense.dot(w)\n",
    "print aSparse.dot(w)\n",
    "print bDense.dot(w)\n",
    "print bSparse.dot(w)"
   ]
  },
  {
   "cell_type": "code",
   "execution_count": 41,
   "metadata": {
    "collapsed": false
   },
   "outputs": [
    {
     "name": "stdout",
     "output_type": "stream",
     "text": [
      "1 test passed.\n",
      "1 test passed.\n",
      "1 test passed.\n",
      "1 test passed.\n"
     ]
    }
   ],
   "source": [
    "# TEST Sparse Vectors (1b)\n",
    "Test.assertTrue(isinstance(aSparse, SparseVector), 'aSparse needs to be an instance of SparseVector')\n",
    "Test.assertTrue(isinstance(bSparse, SparseVector), 'aSparse needs to be an instance of SparseVector')\n",
    "Test.assertTrue(aDense.dot(w) == aSparse.dot(w),\n",
    "                'dot product of aDense and w should equal dot product of aSparse and w')\n",
    "Test.assertTrue(bDense.dot(w) == bSparse.dot(w),\n",
    "                'dot product of bDense and w should equal dot product of bSparse and w')"
   ]
  },
  {
   "cell_type": "markdown",
   "metadata": {},
   "source": [
    "#### **(1c) OHE features as sparse vectors **\n",
    "#### Now let's see how we can represent the OHE features for points in our sample dataset.  Using the mapping defined by the OHE dictionary from Part (1a), manually define OHE features for the three sample data points using SparseVector format.  Any feature that occurs in a point should have the value 1.0.  For example, the `DenseVector` for a point with features 2 and 4 would be `[0.0, 0.0, 1.0, 0.0, 1.0, 0.0, 0.0]`."
   ]
  },
  {
   "cell_type": "code",
   "execution_count": 42,
   "metadata": {
    "collapsed": false
   },
   "outputs": [],
   "source": [
    "# Reminder of the sample features\n",
    "# sampleOne = [(0, 'mouse'), (1, 'black')]\n",
    "# sampleTwo = [(0, 'cat'), (1, 'tabby'), (2, 'mouse')]\n",
    "# sampleThree =  [(0, 'bear'), (1, 'black'), (2, 'salmon')]"
   ]
  },
  {
   "cell_type": "code",
   "execution_count": 43,
   "metadata": {
    "collapsed": false
   },
   "outputs": [],
   "source": [
    "# TODO: Replace <FILL IN> with appropriate code\n",
    "sampleOneOHEFeatManual = SparseVector(7, {2:1,3:1})\n",
    "sampleTwoOHEFeatManual = SparseVector(7, {1:1,4:1,5:1})\n",
    "sampleThreeOHEFeatManual = SparseVector(7, [0,3,6], [1,1,1])"
   ]
  },
  {
   "cell_type": "code",
   "execution_count": 44,
   "metadata": {
    "collapsed": false
   },
   "outputs": [
    {
     "name": "stdout",
     "output_type": "stream",
     "text": [
      "1 test passed.\n",
      "1 test passed.\n",
      "1 test passed.\n",
      "1 test passed.\n",
      "1 test passed.\n",
      "1 test passed.\n"
     ]
    }
   ],
   "source": [
    "# TEST OHE Features as sparse vectors (1c)\n",
    "Test.assertTrue(isinstance(sampleOneOHEFeatManual, SparseVector),\n",
    "                'sampleOneOHEFeatManual needs to be a SparseVector')\n",
    "Test.assertTrue(isinstance(sampleTwoOHEFeatManual, SparseVector),\n",
    "                'sampleTwoOHEFeatManual needs to be a SparseVector')\n",
    "Test.assertTrue(isinstance(sampleThreeOHEFeatManual, SparseVector),\n",
    "                'sampleThreeOHEFeatManual needs to be a SparseVector')\n",
    "Test.assertEqualsHashed(sampleOneOHEFeatManual,\n",
    "                        'ecc00223d141b7bd0913d52377cee2cf5783abd6',\n",
    "                        'incorrect value for sampleOneOHEFeatManual')\n",
    "Test.assertEqualsHashed(sampleTwoOHEFeatManual,\n",
    "                        '26b023f4109e3b8ab32241938e2e9b9e9d62720a',\n",
    "                        'incorrect value for sampleTwoOHEFeatManual')\n",
    "Test.assertEqualsHashed(sampleThreeOHEFeatManual,\n",
    "                        'c04134fd603ae115395b29dcabe9d0c66fbdc8a7',\n",
    "                        'incorrect value for sampleThreeOHEFeatManual')"
   ]
  },
  {
   "cell_type": "markdown",
   "metadata": {},
   "source": [
    "#### **(1d) Define a OHE function **\n",
    "#### Next we will use the OHE dictionary from Part (1a) to programatically generate OHE features from the original categorical data.  First write a function called `oneHotEncoding` that creates OHE feature vectors in `SparseVector` format.  Then use this function to create OHE features for the first sample data point and verify that the result matches the result from Part (1c)."
   ]
  },
  {
   "cell_type": "code",
   "execution_count": 45,
   "metadata": {
    "collapsed": false
   },
   "outputs": [
    {
     "data": {
      "text/plain": [
       "[(0, 'mouse'), (1, 'black')]"
      ]
     },
     "execution_count": 45,
     "metadata": {},
     "output_type": "execute_result"
    }
   ],
   "source": [
    "sampleOne"
   ]
  },
  {
   "cell_type": "code",
   "execution_count": 46,
   "metadata": {
    "collapsed": false
   },
   "outputs": [
    {
     "data": {
      "text/plain": [
       "{(0, 'bear'): 0,\n",
       " (0, 'cat'): 1,\n",
       " (0, 'mouse'): 2,\n",
       " (1, 'black'): 3,\n",
       " (1, 'tabby'): 4,\n",
       " (2, 'mouse'): 5,\n",
       " (2, 'salmon'): 6}"
      ]
     },
     "execution_count": 46,
     "metadata": {},
     "output_type": "execute_result"
    }
   ],
   "source": [
    "sampleOHEDictManual"
   ]
  },
  {
   "cell_type": "code",
   "execution_count": 47,
   "metadata": {
    "collapsed": false
   },
   "outputs": [
    {
     "name": "stdout",
     "output_type": "stream",
     "text": [
      "(7,[2,3],[1.0,1.0])\n"
     ]
    }
   ],
   "source": [
    "# TODO: Replace <FILL IN> with appropriate code\n",
    "def oneHotEncoding(rawFeats, OHEDict, numOHEFeats):\n",
    "    \"\"\"Produce a one-hot-encoding from a list of features and an OHE dictionary.\n",
    "\n",
    "    Note:\n",
    "        You should ensure that the indices used to create a SparseVector are sorted.\n",
    "\n",
    "    Args:\n",
    "        rawFeats (list of (int, str)): The features corresponding to a single observation.  Each\n",
    "            feature consists of a tuple of featureID and the feature's value. (e.g. sampleOne)\n",
    "        OHEDict (dict): A mapping of (featureID, value) to unique integer.\n",
    "        numOHEFeats (int): The total number of unique OHE features (combinations of featureID and\n",
    "            value).\n",
    "\n",
    "    Returns:\n",
    "        SparseVector: A SparseVector of length numOHEFeats with indicies equal to the unique\n",
    "            identifiers for the (featureID, value) combinations that occur in the observation and\n",
    "            with values equal to 1.0.\n",
    "    \"\"\"\n",
    "    return SparseVector(numOHEFeats, sorted([OHEDict[x] for x in rawFeats]), [1 for x in rawFeats])\n",
    "\n",
    "# Calculate the number of features in sampleOHEDictManual\n",
    "numSampleOHEFeats = len(sampleOHEDictManual)\n",
    "\n",
    "# Run oneHotEnoding on sampleOne\n",
    "sampleOneOHEFeat = oneHotEncoding(sampleOne, sampleOHEDictManual, numSampleOHEFeats)\n",
    "\n",
    "print sampleOneOHEFeat"
   ]
  },
  {
   "cell_type": "code",
   "execution_count": 51,
   "metadata": {
    "collapsed": false,
    "scrolled": false
   },
   "outputs": [
    {
     "name": "stdout",
     "output_type": "stream",
     "text": [
      "[(0, 'mouse'), (1, 'black')]\n",
      "[(0, 'cat'), (1, 'tabby'), (2, 'mouse')]\n",
      "[(0, 'bear'), (1, 'black'), (2, 'salmon')]\n"
     ]
    }
   ],
   "source": [
    "print sampleOne\n",
    "print sampleTwo\n",
    "print sampleThree"
   ]
  },
  {
   "cell_type": "code",
   "execution_count": 53,
   "metadata": {
    "collapsed": false,
    "scrolled": true
   },
   "outputs": [
    {
     "name": "stdout",
     "output_type": "stream",
     "text": [
      "1 test passed.\n",
      "1 test passed.\n",
      "1 test passed.\n"
     ]
    }
   ],
   "source": [
    "# TEST Define an OHE Function (1d)\n",
    "Test.assertTrue(sampleOneOHEFeat == sampleOneOHEFeatManual,\n",
    "                'sampleOneOHEFeat should equal sampleOneOHEFeatManual')\n",
    "Test.assertEquals(sampleOneOHEFeat, SparseVector(7, [2,3], [1.0,1.0]),\n",
    "                  'incorrect value for sampleOneOHEFeat')\n",
    "Test.assertEquals(oneHotEncoding([(1, 'black'), (0, 'mouse')], sampleOHEDictManual,\n",
    "                                 numSampleOHEFeats), SparseVector(7, [2,3], [1.0,1.0]),\n",
    "                  'incorrect definition for oneHotEncoding')"
   ]
  },
  {
   "cell_type": "markdown",
   "metadata": {},
   "source": [
    "#### **(1e) Apply OHE to a dataset **\n",
    "#### Finally, use the function from Part (1d) to create OHE features for all 3 data points in the sample dataset."
   ]
  },
  {
   "cell_type": "code",
   "execution_count": 55,
   "metadata": {
    "collapsed": false
   },
   "outputs": [
    {
     "data": {
      "text/plain": [
       "[[(0, 'mouse'), (1, 'black')],\n",
       " [(0, 'cat'), (1, 'tabby'), (2, 'mouse')],\n",
       " [(0, 'bear'), (1, 'black'), (2, 'salmon')]]"
      ]
     },
     "execution_count": 55,
     "metadata": {},
     "output_type": "execute_result"
    }
   ],
   "source": [
    "sampleDataRDD.collect()"
   ]
  },
  {
   "cell_type": "code",
   "execution_count": 22,
   "metadata": {
    "collapsed": false
   },
   "outputs": [
    {
     "name": "stdout",
     "output_type": "stream",
     "text": [
      "[SparseVector(7, {2: 1.0, 3: 1.0}), SparseVector(7, {1: 1.0, 4: 1.0, 5: 1.0}), SparseVector(7, {0: 1.0, 3: 1.0, 6: 1.0})]\n"
     ]
    }
   ],
   "source": [
    "# TODO: Replace <FILL IN> with appropriate code\n",
    "sampleOHEData = sampleDataRDD.map(lambda x: oneHotEncoding(x, sampleOHEDictManual, numSampleOHEFeats))\n",
    "print sampleOHEData.collect()"
   ]
  },
  {
   "cell_type": "code",
   "execution_count": 56,
   "metadata": {
    "collapsed": false
   },
   "outputs": [
    {
     "name": "stdout",
     "output_type": "stream",
     "text": [
      "1 test passed.\n",
      "1 test passed.\n",
      "1 test passed.\n",
      "1 test passed.\n"
     ]
    }
   ],
   "source": [
    "# TEST Apply OHE to a dataset (1e)\n",
    "sampleOHEDataValues = sampleOHEData.collect()\n",
    "Test.assertTrue(len(sampleOHEDataValues) == 3, 'sampleOHEData should have three elements')\n",
    "Test.assertEquals(sampleOHEDataValues[0], SparseVector(7, {2: 1.0, 3: 1.0}),\n",
    "                  'incorrect OHE for first sample')\n",
    "Test.assertEquals(sampleOHEDataValues[1], SparseVector(7, {1: 1.0, 4: 1.0, 5: 1.0}),\n",
    "                  'incorrect OHE for second sample')\n",
    "Test.assertEquals(sampleOHEDataValues[2], SparseVector(7, {0: 1.0, 3: 1.0, 6: 1.0}),\n",
    "                  'incorrect OHE for third sample')"
   ]
  },
  {
   "cell_type": "markdown",
   "metadata": {},
   "source": [
    "### ** Part 2: Construct an OHE dictionary **"
   ]
  },
  {
   "cell_type": "markdown",
   "metadata": {},
   "source": [
    "#### **(2a) Pair RDD of `(featureID, category)` **\n",
    "#### To start, create an RDD of distinct `(featureID, category)` tuples. In our sample dataset, the 7 items in the resulting RDD are `(0, 'bear')`, `(0, 'cat')`, `(0, 'mouse')`, `(1, 'black')`, `(1, 'tabby')`, `(2, 'mouse')`, `(2, 'salmon')`. Notably `'black'` appears twice in the dataset but only contributes one item to the RDD: `(1, 'black')`, while `'mouse'` also appears twice and contributes two items: `(0, 'mouse')` and `(2, 'mouse')`.  Use [flatMap](https://spark.apache.org/docs/latest/api/python/pyspark.html#pyspark.RDD.flatMap) and [distinct](https://spark.apache.org/docs/latest/api/python/pyspark.html#pyspark.RDD.distinct)."
   ]
  },
  {
   "cell_type": "code",
   "execution_count": 57,
   "metadata": {
    "collapsed": false
   },
   "outputs": [
    {
     "data": {
      "text/plain": [
       "[[(0, 'mouse'), (1, 'black')],\n",
       " [(0, 'cat'), (1, 'tabby'), (2, 'mouse')],\n",
       " [(0, 'bear'), (1, 'black'), (2, 'salmon')]]"
      ]
     },
     "execution_count": 57,
     "metadata": {},
     "output_type": "execute_result"
    }
   ],
   "source": [
    "sampleDataRDD.collect()"
   ]
  },
  {
   "cell_type": "code",
   "execution_count": 63,
   "metadata": {
    "collapsed": false
   },
   "outputs": [
    {
     "data": {
      "text/plain": [
       "[(0, 'mouse'),\n",
       " (1, 'black'),\n",
       " (0, 'cat'),\n",
       " (1, 'tabby'),\n",
       " (2, 'mouse'),\n",
       " (0, 'bear'),\n",
       " (1, 'black'),\n",
       " (2, 'salmon')]"
      ]
     },
     "execution_count": 63,
     "metadata": {},
     "output_type": "execute_result"
    }
   ],
   "source": [
    "sampleDataRDD.flatMap(lambda x: x).collect()"
   ]
  },
  {
   "cell_type": "code",
   "execution_count": 64,
   "metadata": {
    "collapsed": false
   },
   "outputs": [],
   "source": [
    "# TODO: Replace <FILL IN> with appropriate code\n",
    "sampleDistinctFeats = (sampleDataRDD\n",
    "                       .flatMap(lambda x: x)\n",
    "                       .distinct())"
   ]
  },
  {
   "cell_type": "code",
   "execution_count": 65,
   "metadata": {
    "collapsed": false
   },
   "outputs": [
    {
     "data": {
      "text/plain": [
       "[(2, 'mouse'),\n",
       " (2, 'salmon'),\n",
       " (0, 'cat'),\n",
       " (0, 'bear'),\n",
       " (0, 'mouse'),\n",
       " (1, 'black'),\n",
       " (1, 'tabby')]"
      ]
     },
     "execution_count": 65,
     "metadata": {},
     "output_type": "execute_result"
    }
   ],
   "source": [
    "sampleDistinctFeats.collect()"
   ]
  },
  {
   "cell_type": "code",
   "execution_count": 25,
   "metadata": {
    "collapsed": false
   },
   "outputs": [
    {
     "name": "stdout",
     "output_type": "stream",
     "text": [
      "1 test passed.\n"
     ]
    }
   ],
   "source": [
    "# TEST Pair RDD of (featureID, category) (2a)\n",
    "Test.assertEquals(sorted(sampleDistinctFeats.collect()),\n",
    "                  [(0, 'bear'), (0, 'cat'), (0, 'mouse'), (1, 'black'),\n",
    "                   (1, 'tabby'), (2, 'mouse'), (2, 'salmon')],\n",
    "                  'incorrect value for sampleDistinctFeats')"
   ]
  },
  {
   "cell_type": "markdown",
   "metadata": {},
   "source": [
    "#### ** (2b) OHE Dictionary from distinct features **\n",
    "#### Next, create an `RDD` of key-value tuples, where each `(featureID, category)` tuple in `sampleDistinctFeats` is a key and the values are distinct integers ranging from 0 to (number of keys - 1).  Then convert this `RDD` into a dictionary, which can be done using the `collectAsMap` action.  Note that there is no unique mapping from keys to values, as all we require is that each `(featureID, category)` key be mapped to a unique integer between 0 and the number of keys.  In this exercise, any valid mapping is acceptable.  Use [zipWithIndex](https://spark.apache.org/docs/latest/api/python/pyspark.html#pyspark.RDD.zipWithIndex) followed by [collectAsMap](https://spark.apache.org/docs/latest/api/python/pyspark.html#pyspark.RDD.collectAsMap).\n",
    "#### In our sample dataset, one valid list of key-value tuples is: `[((0, 'bear'), 0), ((2, 'salmon'), 1), ((1, 'tabby'), 2), ((2, 'mouse'), 3), ((0, 'mouse'), 4), ((0, 'cat'), 5), ((1, 'black'), 6)]`. The dictionary defined in Part (1a) illustrates another valid mapping between keys and integers."
   ]
  },
  {
   "cell_type": "code",
   "execution_count": 75,
   "metadata": {
    "collapsed": false
   },
   "outputs": [
    {
     "data": {
      "text/plain": [
       "[((2, 'mouse'), 0),\n",
       " ((2, 'salmon'), 1),\n",
       " ((0, 'cat'), 2),\n",
       " ((0, 'bear'), 3),\n",
       " ((0, 'mouse'), 4),\n",
       " ((1, 'black'), 5),\n",
       " ((1, 'tabby'), 6)]"
      ]
     },
     "execution_count": 75,
     "metadata": {},
     "output_type": "execute_result"
    }
   ],
   "source": [
    "sampleDistinctFeats.zipWithIndex().collect()"
   ]
  },
  {
   "cell_type": "code",
   "execution_count": 79,
   "metadata": {
    "collapsed": false
   },
   "outputs": [
    {
     "data": {
      "text/plain": [
       "dict"
      ]
     },
     "execution_count": 79,
     "metadata": {},
     "output_type": "execute_result"
    }
   ],
   "source": [
    "type(sampleDistinctFeats.zipWithIndex().collectAsMap())"
   ]
  },
  {
   "cell_type": "code",
   "execution_count": 70,
   "metadata": {
    "collapsed": false
   },
   "outputs": [
    {
     "name": "stdout",
     "output_type": "stream",
     "text": [
      "{(2, 'mouse'): 0, (0, 'cat'): 2, (0, 'bear'): 3, (2, 'salmon'): 1, (1, 'tabby'): 6, (1, 'black'): 5, (0, 'mouse'): 4}\n"
     ]
    }
   ],
   "source": [
    "# TODO: Replace <FILL IN> with appropriate code\n",
    "sampleOHEDict = (sampleDistinctFeats\n",
    "                           .zipWithIndex()\n",
    "                           .collectAsMap())\n",
    "print sampleOHEDict"
   ]
  },
  {
   "cell_type": "code",
   "execution_count": 67,
   "metadata": {
    "collapsed": false
   },
   "outputs": [
    {
     "name": "stdout",
     "output_type": "stream",
     "text": [
      "1 test passed.\n",
      "1 test passed.\n"
     ]
    }
   ],
   "source": [
    "# TEST OHE Dictionary from distinct features (2b)\n",
    "Test.assertEquals(sorted(sampleOHEDict.keys()),\n",
    "                  [(0, 'bear'), (0, 'cat'), (0, 'mouse'), (1, 'black'),\n",
    "                   (1, 'tabby'), (2, 'mouse'), (2, 'salmon')],\n",
    "                  'sampleOHEDict has unexpected keys')\n",
    "Test.assertEquals(sorted(sampleOHEDict.values()), range(7), 'sampleOHEDict has unexpected values')"
   ]
  },
  {
   "cell_type": "markdown",
   "metadata": {},
   "source": [
    "#### **(2c) Automated creation of an OHE dictionary **\n",
    "#### Now use the code from Parts (2a) and (2b) to write a function that takes an input dataset and outputs an OHE dictionary.  Then use this function to create an OHE dictionary for the sample dataset, and verify that it matches the dictionary from Part (2b)."
   ]
  },
  {
   "cell_type": "code",
   "execution_count": 80,
   "metadata": {
    "collapsed": false
   },
   "outputs": [
    {
     "name": "stdout",
     "output_type": "stream",
     "text": [
      "{(2, 'mouse'): 0, (0, 'cat'): 2, (0, 'bear'): 3, (2, 'salmon'): 1, (1, 'tabby'): 6, (1, 'black'): 5, (0, 'mouse'): 4}\n"
     ]
    }
   ],
   "source": [
    "# TODO: Replace <FILL IN> with appropriate code\n",
    "def createOneHotDict(inputData):\n",
    "    \"\"\"Creates a one-hot-encoder dictionary based on the input data.\n",
    "\n",
    "    Args:\n",
    "        inputData (RDD of lists of (int, str)): An RDD of observations where each observation is\n",
    "            made up of a list of (featureID, value) tuples.\n",
    "\n",
    "    Returns:\n",
    "        dict: A dictionary where the keys are (featureID, value) tuples and map to values that are\n",
    "            unique integers.\n",
    "    \"\"\"\n",
    "    return(inputData.flatMap(lambda x: x)\n",
    "                    .distinct()\n",
    "                    .zipWithIndex()\n",
    "                    .collectAsMap())\n",
    "\n",
    "sampleOHEDictAuto = createOneHotDict(sampleDataRDD)\n",
    "print sampleOHEDictAuto"
   ]
  },
  {
   "cell_type": "code",
   "execution_count": 83,
   "metadata": {
    "collapsed": false
   },
   "outputs": [
    {
     "name": "stdout",
     "output_type": "stream",
     "text": [
      "1 test passed.\n",
      "1 test passed.\n"
     ]
    }
   ],
   "source": [
    "# TEST Automated creation of an OHE dictionary (2c)\n",
    "Test.assertEquals(sorted(sampleOHEDictAuto.keys()),\n",
    "                  [(0, 'bear'), (0, 'cat'), (0, 'mouse'), (1, 'black'),\n",
    "                   (1, 'tabby'), (2, 'mouse'), (2, 'salmon')],\n",
    "                  'sampleOHEDictAuto has unexpected keys')\n",
    "Test.assertEquals(sorted(sampleOHEDictAuto.values()), range(7),\n",
    "                  'sampleOHEDictAuto has unexpected values')"
   ]
  },
  {
   "cell_type": "markdown",
   "metadata": {},
   "source": [
    "### **Part 3: Parse CTR data and generate OHE features**"
   ]
  },
  {
   "cell_type": "markdown",
   "metadata": {},
   "source": [
    "#### Before we can proceed, you'll first need to obtain the data from Criteo.  If you have already completed this step in the setup lab, just run the cells below and the data will be loaded into the `rawData` variable.\n",
    "#### Below is Criteo's data sharing agreement.  After you accept the agreement, you can obtain the download URL by right-clicking on the \"Download Sample\" button and clicking \"Copy link address\" or \"Copy Link Location\", depending on your browser.  Paste the URL into the `# TODO` cell below.  The file is 8.4 MB compressed.  The script below will download the file to the virtual machine (VM) and then extract the data.\n",
    "#### If running the cell below does not render a webpage, open the [Criteo agreement](http://labs.criteo.com/downloads/2014-kaggle-display-advertising-challenge-dataset/) in a separate browser tab.  After you accept the agreement, you can obtain the download URL by right-clicking on the \"Download Sample\" button and clicking \"Copy link address\" or \"Copy Link Location\", depending on your browser.  Paste the URL into the `# TODO` cell below.\n",
    "#### Note that the download could take a few minutes, depending upon your connection speed."
   ]
  },
  {
   "cell_type": "code",
   "execution_count": 30,
   "metadata": {
    "collapsed": false
   },
   "outputs": [
    {
     "data": {
      "text/html": [
       "\n",
       "        <iframe\n",
       "            width=\"600\"\n",
       "            height=\"350\"\n",
       "            src=\"http://labs.criteo.com/downloads/2014-kaggle-display-advertising-challenge-dataset/\"\n",
       "            frameborder=\"0\"\n",
       "            allowfullscreen\n",
       "        ></iframe>\n",
       "        "
      ],
      "text/plain": [
       "<IPython.lib.display.IFrame at 0x10ac08a10>"
      ]
     },
     "execution_count": 30,
     "metadata": {},
     "output_type": "execute_result"
    }
   ],
   "source": [
    "# Run this code to view Criteo's agreement\n",
    "from IPython.lib.display import IFrame\n",
    "\n",
    "IFrame(\"http://labs.criteo.com/downloads/2014-kaggle-display-advertising-challenge-dataset/\",\n",
    "       600, 350)"
   ]
  },
  {
   "cell_type": "code",
   "execution_count": 31,
   "metadata": {
    "collapsed": false
   },
   "outputs": [
    {
     "name": "stdout",
     "output_type": "stream",
     "text": [
      "Successfully extracted: dac_sample.txt\n",
      "tar.gz file was already available.\n"
     ]
    }
   ],
   "source": [
    "# TODO: Replace <FILL IN> with appropriate code\n",
    "# Just replace <FILL IN> with the url for dac_sample.tar.gz\n",
    "import glob\n",
    "import os.path\n",
    "import tarfile\n",
    "import urllib\n",
    "import urlparse\n",
    "\n",
    "# Paste url, url should end with: dac_sample.tar.gz\n",
    "url = 'http://labs.criteo.com/wp-content/uploads/2015/04/dac_sample.tar.gz'\n",
    "\n",
    "url = url.strip()\n",
    "baseDir = os.path.join('data')\n",
    "inputPath = os.path.join('cs190', 'dac_sample.txt')\n",
    "fileName = os.path.join(baseDir, inputPath)\n",
    "inputDir = os.path.split(fileName)[0]\n",
    "\n",
    "def extractTar(check = False):\n",
    "    # Find the zipped archive and extract the dataset\n",
    "    tars = glob.glob('dac_sample*.tar.gz*')\n",
    "    if check and len(tars) == 0:\n",
    "      return False\n",
    "\n",
    "    if len(tars) > 0:\n",
    "        try:\n",
    "            tarFile = tarfile.open(tars[0])\n",
    "        except tarfile.ReadError:\n",
    "            if not check:\n",
    "                print 'Unable to open tar.gz file.  Check your URL.'\n",
    "            return False\n",
    "\n",
    "        tarFile.extract('dac_sample.txt', path=inputDir)\n",
    "        print 'Successfully extracted: dac_sample.txt'\n",
    "        return True\n",
    "    else:\n",
    "        print 'You need to retry the download with the correct url.'\n",
    "        print ('Alternatively, you can upload the dac_sample.tar.gz file to your Jupyter root ' +\n",
    "              'directory')\n",
    "        return False\n",
    "\n",
    "\n",
    "if os.path.isfile(fileName):\n",
    "    print 'File is already available. Nothing to do.'\n",
    "elif extractTar(check = True):\n",
    "    print 'tar.gz file was already available.'\n",
    "elif not url.endswith('dac_sample.tar.gz'):\n",
    "    print 'Check your download url.  Are you downloading the Sample dataset?'\n",
    "else:\n",
    "    # Download the file and store it in the same directory as this notebook\n",
    "    try:\n",
    "        urllib.urlretrieve(url, os.path.basename(urlparse.urlsplit(url).path))\n",
    "    except IOError:\n",
    "        print 'Unable to download and store: {0}'.format(url)\n",
    "\n",
    "    extractTar()"
   ]
  },
  {
   "cell_type": "code",
   "execution_count": 84,
   "metadata": {
    "collapsed": false
   },
   "outputs": [
    {
     "name": "stdout",
     "output_type": "stream",
     "text": [
      "[u'0,1,1,5,0,1382,4,15,2,181,1,2,,2,68fd1e64,80e26c9b,fb936136,7b4723c4,25c83c98,7e0ccccf,de7995b8,1f89b562,a73ee510,a8cd5504,b2cb9c98,37c9c164,2824a5f6,1adce6ef,8ba8b39a,891b62e7,e5ba7672,f54016b9,21ddcdc9,b1252a9d,07b5194c,,3a171ecb,c5c50484,e8b83407,9727dd16']\n"
     ]
    }
   ],
   "source": [
    "import os.path\n",
    "baseDir = os.path.join('data')\n",
    "inputPath = os.path.join('cs190', 'dac_sample.txt')\n",
    "fileName = os.path.join(baseDir, inputPath)\n",
    "\n",
    "if os.path.isfile(fileName):\n",
    "    rawData = (sc\n",
    "               .textFile(fileName, 2)\n",
    "               .map(lambda x: x.replace('\\t', ',')))  # work with either ',' or '\\t' separated data\n",
    "    print rawData.take(1)"
   ]
  },
  {
   "cell_type": "code",
   "execution_count": 86,
   "metadata": {
    "collapsed": false
   },
   "outputs": [
    {
     "data": {
      "text/plain": [
       "[u'0,1,1,5,0,1382,4,15,2,181,1,2,,2,68fd1e64,80e26c9b,fb936136,7b4723c4,25c83c98,7e0ccccf,de7995b8,1f89b562,a73ee510,a8cd5504,b2cb9c98,37c9c164,2824a5f6,1adce6ef,8ba8b39a,891b62e7,e5ba7672,f54016b9,21ddcdc9,b1252a9d,07b5194c,,3a171ecb,c5c50484,e8b83407,9727dd16',\n",
       " u'0,2,0,44,1,102,8,2,2,4,1,1,,4,68fd1e64,f0cf0024,6f67f7e5,41274cd7,25c83c98,fe6b92e5,922afcc0,0b153874,a73ee510,2b53e5fb,4f1b46f3,623049e6,d7020589,b28479f6,e6c5b5cd,c92f3b61,07c540c4,b04e4670,21ddcdc9,5840adea,60f6221e,,3a171ecb,43f13e8b,e8b83407,731c3655']"
      ]
     },
     "execution_count": 86,
     "metadata": {},
     "output_type": "execute_result"
    }
   ],
   "source": [
    "rawData.take(2)"
   ]
  },
  {
   "cell_type": "markdown",
   "metadata": {},
   "source": [
    "#### **(3a) Loading and splitting the data **\n",
    "#### We are now ready to start working with the actual CTR data, and our first task involves splitting it into training, validation, and test sets.  Use the [randomSplit method](https://spark.apache.org/docs/latest/api/python/pyspark.html#pyspark.RDD.randomSplit) with the specified weights and seed to create RDDs storing each of these datasets, and then [cache](https://spark.apache.org/docs/latest/api/python/pyspark.html#pyspark.RDD.cache) each of these RDDs, as we will be accessing them multiple times in the remainder of this lab. Finally, compute the size of each dataset."
   ]
  },
  {
   "cell_type": "code",
   "execution_count": 87,
   "metadata": {
    "collapsed": false
   },
   "outputs": [
    {
     "name": "stdout",
     "output_type": "stream",
     "text": [
      "79911 10075 10014 100000\n",
      "[u'0,1,1,5,0,1382,4,15,2,181,1,2,,2,68fd1e64,80e26c9b,fb936136,7b4723c4,25c83c98,7e0ccccf,de7995b8,1f89b562,a73ee510,a8cd5504,b2cb9c98,37c9c164,2824a5f6,1adce6ef,8ba8b39a,891b62e7,e5ba7672,f54016b9,21ddcdc9,b1252a9d,07b5194c,,3a171ecb,c5c50484,e8b83407,9727dd16']\n"
     ]
    }
   ],
   "source": [
    "# TODO: Replace <FILL IN> with appropriate code\n",
    "weights = [.8, .1, .1]\n",
    "seed = 42\n",
    "# Use randomSplit with weights and seed\n",
    "rawTrainData, rawValidationData, rawTestData = rawData.randomSplit(weights, seed)\n",
    "# Cache the data\n",
    "rawTrainData.cache()\n",
    "rawValidationData.cache()\n",
    "rawTestData.cache()\n",
    "\n",
    "nTrain = rawTrainData.count()\n",
    "nVal = rawValidationData.count()\n",
    "nTest = rawTestData.count()\n",
    "print nTrain, nVal, nTest, nTrain + nVal + nTest\n",
    "print rawData.take(1)"
   ]
  },
  {
   "cell_type": "code",
   "execution_count": 131,
   "metadata": {
    "collapsed": false
   },
   "outputs": [
    {
     "data": {
      "text/plain": [
       "40"
      ]
     },
     "execution_count": 131,
     "metadata": {},
     "output_type": "execute_result"
    }
   ],
   "source": [
    "len(rawData.take(2)[1].split(','))"
   ]
  },
  {
   "cell_type": "code",
   "execution_count": 132,
   "metadata": {
    "collapsed": false
   },
   "outputs": [
    {
     "data": {
      "text/plain": [
       "40"
      ]
     },
     "execution_count": 132,
     "metadata": {},
     "output_type": "execute_result"
    }
   ],
   "source": [
    "len(rawData.take(2)[0].split(','))"
   ]
  },
  {
   "cell_type": "code",
   "execution_count": 88,
   "metadata": {
    "collapsed": false
   },
   "outputs": [
    {
     "name": "stdout",
     "output_type": "stream",
     "text": [
      "1 test passed.\n",
      "1 test passed.\n",
      "1 test passed.\n",
      "1 test passed.\n"
     ]
    }
   ],
   "source": [
    "# TEST Loading and splitting the data (3a)\n",
    "Test.assertTrue(all([rawTrainData.is_cached, rawValidationData.is_cached, rawTestData.is_cached]),\n",
    "                'you must cache the split data')\n",
    "Test.assertEquals(nTrain, 79911, 'incorrect value for nTrain')\n",
    "Test.assertEquals(nVal, 10075, 'incorrect value for nVal')\n",
    "Test.assertEquals(nTest, 10014, 'incorrect value for nTest')"
   ]
  },
  {
   "cell_type": "markdown",
   "metadata": {},
   "source": [
    "#### ** (3b) Extract features **\n",
    "#### We will now parse the raw training data to create an RDD that we can subsequently use to create an OHE dictionary. Note from the `take()` command in Part (3a) that each raw data point is a string containing several fields separated by some delimiter.  For now, we will ignore the first field (which is the 0-1 label), and parse the remaining fields (or raw features).  To do this, complete the implemention of the `parsePoint` function."
   ]
  },
  {
   "cell_type": "code",
   "execution_count": 92,
   "metadata": {
    "collapsed": true
   },
   "outputs": [],
   "source": [
    "strTest = \"I,love,NBA,today\""
   ]
  },
  {
   "cell_type": "code",
   "execution_count": 93,
   "metadata": {
    "collapsed": false
   },
   "outputs": [
    {
     "data": {
      "text/plain": [
       "['I', 'love', 'NBA', 'today']"
      ]
     },
     "execution_count": 93,
     "metadata": {},
     "output_type": "execute_result"
    }
   ],
   "source": [
    "strTest.split(',')"
   ]
  },
  {
   "cell_type": "code",
   "execution_count": 94,
   "metadata": {
    "collapsed": false
   },
   "outputs": [
    {
     "data": {
      "text/plain": [
       "[(0, 'love'), (1, 'NBA'), (2, 'today')]"
      ]
     },
     "execution_count": 94,
     "metadata": {},
     "output_type": "execute_result"
    }
   ],
   "source": [
    "[(x,strTest.split(',')[x+1]) for x in range(0,len(strTest.split(','))-1)]"
   ]
  },
  {
   "cell_type": "code",
   "execution_count": 95,
   "metadata": {
    "collapsed": false
   },
   "outputs": [
    {
     "data": {
      "text/plain": [
       "[0, 1, 2]"
      ]
     },
     "execution_count": 95,
     "metadata": {},
     "output_type": "execute_result"
    }
   ],
   "source": [
    "range(0, len(strTest.split(','))-1)"
   ]
  },
  {
   "cell_type": "code",
   "execution_count": null,
   "metadata": {
    "collapsed": true
   },
   "outputs": [],
   "source": []
  },
  {
   "cell_type": "code",
   "execution_count": 89,
   "metadata": {
    "collapsed": false,
    "scrolled": true
   },
   "outputs": [
    {
     "name": "stdout",
     "output_type": "stream",
     "text": [
      "855\n"
     ]
    }
   ],
   "source": [
    "# TODO: Replace <FILL IN> with appropriate code\n",
    "def parsePoint(point):\n",
    "    \"\"\"Converts a comma separated string into a list of (featureID, value) tuples.\n",
    "\n",
    "    Note:\n",
    "        featureIDs should start at 0 and increase to the number of features - 1.\n",
    "\n",
    "    Args:\n",
    "        point (str): A comma separated string where the first value is the label and the rest\n",
    "            are features.\n",
    "\n",
    "    Returns:\n",
    "        list: A list of (featureID, value) tuples.\n",
    "    \"\"\"\n",
    "    return [(x, point.split(',')[x+1]) for x in range(0,len(point.split(','))-1)]\n",
    "\n",
    "parsedTrainFeat = rawTrainData.map(parsePoint)\n",
    "\n",
    "numCategories = (parsedTrainFeat\n",
    "                 .flatMap(lambda x: x)\n",
    "                 .distinct()\n",
    "                 .map(lambda x: (x[0], 1))\n",
    "                 .reduceByKey(lambda x, y: x + y)\n",
    "                 .sortByKey()\n",
    "                 .collect())\n",
    "\n",
    "print numCategories[2][1]"
   ]
  },
  {
   "cell_type": "code",
   "execution_count": 133,
   "metadata": {
    "collapsed": false
   },
   "outputs": [
    {
     "data": {
      "text/plain": [
       "[(0, 144),\n",
       " (1, 2467),\n",
       " (2, 855),\n",
       " (3, 129),\n",
       " (4, 20311),\n",
       " (5, 1890),\n",
       " (6, 567),\n",
       " (7, 142),\n",
       " (8, 1796),\n",
       " (9, 8),\n",
       " (10, 81),\n",
       " (11, 62),\n",
       " (12, 252),\n",
       " (13, 471),\n",
       " (14, 492),\n",
       " (15, 36044),\n",
       " (16, 21331),\n",
       " (17, 131),\n",
       " (18, 12),\n",
       " (19, 7221),\n",
       " (20, 233),\n",
       " (21, 3),\n",
       " (22, 9905),\n",
       " (23, 3678),\n",
       " (24, 33988),\n",
       " (25, 2741),\n",
       " (26, 25),\n",
       " (27, 4844),\n",
       " (28, 28762),\n",
       " (29, 10),\n",
       " (30, 2379),\n",
       " (31, 1223),\n",
       " (32, 4),\n",
       " (33, 31887),\n",
       " (34, 11),\n",
       " (35, 14),\n",
       " (36, 10799),\n",
       " (37, 49),\n",
       " (38, 8325)]"
      ]
     },
     "execution_count": 133,
     "metadata": {},
     "output_type": "execute_result"
    }
   ],
   "source": [
    "numCategories"
   ]
  },
  {
   "cell_type": "code",
   "execution_count": 114,
   "metadata": {
    "collapsed": false
   },
   "outputs": [],
   "source": [
    "test = sc.parallelize([[1,2,3],[4,5,6],[7,8,9]])"
   ]
  },
  {
   "cell_type": "code",
   "execution_count": 90,
   "metadata": {
    "collapsed": false
   },
   "outputs": [
    {
     "name": "stdout",
     "output_type": "stream",
     "text": [
      "1 test passed.\n",
      "1 test passed.\n"
     ]
    }
   ],
   "source": [
    "# TEST Extract features (3b)\n",
    "Test.assertEquals(numCategories[2][1], 855, 'incorrect implementation of parsePoint')\n",
    "Test.assertEquals(numCategories[32][1], 4, 'incorrect implementation of parsePoint')"
   ]
  },
  {
   "cell_type": "markdown",
   "metadata": {},
   "source": [
    "#### **(3c) Create an OHE dictionary from the dataset **\n",
    "#### Note that parsePoint returns a data point as a list of `(featureID, category)` tuples, which is the same format as the sample dataset studied in Parts 1 and 2 of this lab.  Using this observation, create an OHE dictionary using the function implemented in Part (2c). Note that we will assume for simplicity that all features in our CTR dataset are categorical."
   ]
  },
  {
   "cell_type": "code",
   "execution_count": 108,
   "metadata": {
    "collapsed": false
   },
   "outputs": [
    {
     "name": "stdout",
     "output_type": "stream",
     "text": [
      "233286\n",
      "36164\n"
     ]
    }
   ],
   "source": [
    "# TODO: Replace <FILL IN> with appropriate code\n",
    "ctrOHEDict = createOneHotDict(parsedTrainFeat)\n",
    "numCtrOHEFeats = len(ctrOHEDict.keys())\n",
    "print numCtrOHEFeats\n",
    "print ctrOHEDict[(0, '')]"
   ]
  },
  {
   "cell_type": "code",
   "execution_count": 134,
   "metadata": {
    "collapsed": false
   },
   "outputs": [
    {
     "data": {
      "text/plain": [
       "{(16, u'0e4666ea'): 116918,\n",
       " (28, u'afc930ae'): 0,\n",
       " (24, u'5af66cdb'): 116921,\n",
       " (5, u'1454'): 116940,\n",
       " (2, u'105'): 116924,\n",
       " (33, u'59af4e91'): 116950,\n",
       " (15, u'2f997378'): 42575,\n",
       " (4, u'30340'): 116927,\n",
       " (38, u'83a7395a'): 116928,\n",
       " (16, u'c32b51eb'): 116929,\n",
       " (4, u'36033'): 7,\n",
       " (16, u'1ffb00c7'): 116932,\n",
       " (15, u'd8e9cd99'): 12,\n",
       " (16, u'b5922abb'): 116933,\n",
       " (15, u'c40952e4'): 116934,\n",
       " (28, u'b4baa227'): 116935,\n",
       " (15, u'48509fa6'): 14,\n",
       " (16, u'ca5ae309'): 117002,\n",
       " (15, u'916a5533'): 15,\n",
       " (15, u'68845f69'): 116938,\n",
       " (15, u'd10cb1e1'): 17,\n",
       " (16, u'b289acd5'): 19464,\n",
       " (36, u'cad0aff6'): 116942,\n",
       " (27, u'6da7ebcd'): 138935,\n",
       " (19, u'3fea47e2'): 85201,\n",
       " (28, u'04255147'): 23,\n",
       " (4, u'5227'): 76791,\n",
       " (1, u'1045'): 116946,\n",
       " (16, u'7a806418'): 194148,\n",
       " (4, u'192650'): 116948,\n",
       " (33, u'd70fff45'): 117090,\n",
       " (33, u'7266699b'): 107938,\n",
       " (22, u'55baa320'): 117096,\n",
       " (4, u'21648'): 26,\n",
       " (33, u'455887fc'): 219684,\n",
       " (15, u'c53655ce'): 27,\n",
       " (16, u'45bb6002'): 116955,\n",
       " (28, u'4f6a23b1'): 116958,\n",
       " (36, u'44044c32'): 33,\n",
       " (28, u'64052f86'): 116959,\n",
       " (19, u'819b9a69'): 27923,\n",
       " (19, u'0ba783a9'): 34,\n",
       " (4, u'43164'): 116961,\n",
       " (15, u'0619131f'): 35,\n",
       " (22, u'f24b3308'): 36,\n",
       " (16, u'661e1a9c'): 227,\n",
       " (24, u'1b6bedcf'): 125235,\n",
       " (24, u'2c031274'): 38,\n",
       " (16, u'2da06c73'): 41,\n",
       " (15, u'63fe6f00'): 116965,\n",
       " (4, u'30363'): 42,\n",
       " (15, u'2e24a99a'): 43,\n",
       " (15, u'12600252'): 116968,\n",
       " (4, u'2841'): 117206,\n",
       " (23, u'3a3c960c'): 116971,\n",
       " (24, u'cd798ac7'): 297,\n",
       " (15, u'f9e8c596'): 9268,\n",
       " (33, u'02dbda88'): 307,\n",
       " (33, u'1dda6c31'): 52,\n",
       " (15, u'c7eae0ce'): 53,\n",
       " (15, u'2d1ab619'): 116976,\n",
       " (33, u'b34b0b09'): 116977,\n",
       " (24, u'8b46ec61'): 116981,\n",
       " (4, u'146190'): 117292,\n",
       " (33, u'8174016a'): 183087,\n",
       " (14, u'2aee75a8'): 59,\n",
       " (19, u'018c4538'): 116983,\n",
       " (15, u'aa65958c'): 116984,\n",
       " (15, u'25c57c15'): 62,\n",
       " (4, u'11864'): 116985,\n",
       " (27, u'ad730b96'): 116986,\n",
       " (4, u'177635'): 116987,\n",
       " (28, u'641281ac'): 68,\n",
       " (28, u'bc9f2dcf'): 116990,\n",
       " (16, u'8f60b53d'): 70,\n",
       " (15, u'f2bbe402'): 71,\n",
       " (24, u'a62bfa2a'): 116992,\n",
       " (15, u'9fdc0733'): 72,\n",
       " (15, u'd78f6497'): 37512,\n",
       " (27, u'42e41d92'): 75,\n",
       " (2, u'125'): 116998,\n",
       " (33, u'bd511f73'): 76,\n",
       " (8, u'480'): 117000,\n",
       " (24, u'4b2e928e'): 222746,\n",
       " (22, u'9c48e3c3'): 81,\n",
       " (33, u'aeae3682'): 83,\n",
       " (33, u'29cfe7a2'): 100606,\n",
       " (15, u'b15e2ad9'): 85,\n",
       " (16, u'cf85fec7'): 117004,\n",
       " (15, u'6d96f9c4'): 86,\n",
       " (4, u'23201'): 117005,\n",
       " (24, u'7c62d956'): 87,\n",
       " (33, u'9ee6911b'): 206228,\n",
       " (4, u'33102'): 88,\n",
       " (28, u'3f4322ac'): 89,\n",
       " (24, u'589fa76e'): 117010,\n",
       " (15, u'd93bb510'): 117011,\n",
       " (24, u'c889322e'): 90,\n",
       " (16, u'ff8cfb82'): 117012,\n",
       " (33, u'3a4231a6'): 91,\n",
       " (27, u'6a13f121'): 517,\n",
       " (8, u'1843'): 93,\n",
       " (4, u'27881'): 163242,\n",
       " (22, u'f06d5a2a'): 117017,\n",
       " (28, u'8759a2d9'): 117020,\n",
       " (4, u'14929'): 98,\n",
       " (15, u'a1077287'): 99,\n",
       " (11, u'61'): 21519,\n",
       " (4, u'11478'): 101,\n",
       " (33, u'12ad5e03'): 103,\n",
       " (19, u'97792de0'): 106,\n",
       " (31, u'4996bd54'): 107,\n",
       " (24, u'ddb24e2f'): 117029,\n",
       " (28, u'2a42ada2'): 117552,\n",
       " (4, u'14806'): 110,\n",
       " (27, u'2559d9b6'): 117033,\n",
       " (16, u'c0526724'): 117034,\n",
       " (38, u'29527d33'): 205045,\n",
       " (28, u'11f7d7dd'): 114,\n",
       " (4, u'19051'): 117037,\n",
       " (15, u'ed718e5d'): 117,\n",
       " (28, u'80a54deb'): 117040,\n",
       " (28, u'fdd5c498'): 117043,\n",
       " (33, u'1c37c320'): 180402,\n",
       " (28, u'5ba150b5'): 117048,\n",
       " (16, u'bc8d1aa6'): 126,\n",
       " (5, u'1836'): 117051,\n",
       " (36, u'590b856f'): 117052,\n",
       " (33, u'4f8826db'): 117053,\n",
       " (4, u'3683'): 131,\n",
       " (30, u'45e764d2'): 117055,\n",
       " (36, u'8451bc6d'): 117057,\n",
       " (15, u'8444bcc9'): 79164,\n",
       " (0, u'57'): 135,\n",
       " (27, u'70884403'): 117719,\n",
       " (28, u'a18bd5d7'): 37525,\n",
       " (22, u'a0fda355'): 117061,\n",
       " (4, u'1568'): 26740,\n",
       " (28, u'0a31175c'): 117062,\n",
       " (28, u'4148cc5d'): 138,\n",
       " (15, u'09c24c52'): 117064,\n",
       " (36, u'8b86cb5d'): 140,\n",
       " (4, u'10392'): 141,\n",
       " (28, u'a43f64c8'): 117069,\n",
       " (19, u'5c16df0c'): 117073,\n",
       " (33, u'ce0e86e0'): 203251,\n",
       " (15, u'b2e50211'): 117799,\n",
       " (24, u'313b5c50'): 76810,\n",
       " (33, u'2a4ab79f'): 117075,\n",
       " (15, u'f9b44d8f'): 148,\n",
       " (22, u'd05d3f2b'): 150,\n",
       " (4, u'19353'): 151,\n",
       " (28, u'166b84a8'): 152,\n",
       " (28, u'adbbbf8d'): 117082,\n",
       " (28, u'6796d03b'): 194171,\n",
       " (33, u'8d2d72f6'): 157,\n",
       " (33, u'4b5d2245'): 230730,\n",
       " (33, u'229b1c5a'): 158,\n",
       " (33, u'40154c14'): 117086,\n",
       " (28, u'5084de0a'): 117088,\n",
       " (19, u'3c1fa46c'): 159,\n",
       " (4, u'17529'): 117089,\n",
       " (15, u'084614a4'): 208148,\n",
       " (22, u'65eb5093'): 117091,\n",
       " (33, u'de9d7ab3'): 71872,\n",
       " (19, u'e8281e85'): 117093,\n",
       " (16, u'694a5caa'): 163,\n",
       " (38, u'23212ac8'): 164,\n",
       " (23, u'66eb4656'): 117094,\n",
       " (33, u'b4479b54'): 165,\n",
       " (16, u'2778b201'): 117095,\n",
       " (33, u'29a2fa4d'): 166,\n",
       " (33, u'ca6ce77c'): 76815,\n",
       " (28, u'b004b60c'): 117098,\n",
       " (36, u'07e4d1cf'): 169,\n",
       " (24, u'a27fc151'): 37531,\n",
       " (25, u'140b1e5d'): 117950,\n",
       " (27, u'7af2211a'): 173,\n",
       " (4, u'9622'): 117105,\n",
       " (15, u'e2fbb7cb'): 40512,\n",
       " (24, u'5dc50588'): 1013,\n",
       " (33, u'47c22908'): 178,\n",
       " (15, u'eb938713'): 117109,\n",
       " (0, u'86'): 180,\n",
       " (1, u'1620'): 183,\n",
       " (28, u'7b274b5b'): 117111,\n",
       " (4, u'37535'): 76818,\n",
       " (36, u'24fbc64d'): 117113,\n",
       " (24, u'2903d9de'): 188,\n",
       " (28, u'd66a7316'): 189,\n",
       " (16, u'c1973de9'): 117115,\n",
       " (4, u'4387'): 190,\n",
       " (16, u'427bc39c'): 118051,\n",
       " (4, u'10229'): 117118,\n",
       " (22, u'abd49365'): 195,\n",
       " (33, u'60ed290f'): 118086,\n",
       " (33, u'5a1ecdae'): 197,\n",
       " (36, u'6af74416'): 194177,\n",
       " (15, u'd271bb80'): 118096,\n",
       " (15, u'9e7fffea'): 198,\n",
       " (28, u'd51c1b94'): 117127,\n",
       " (30, u'2b829a72'): 117128,\n",
       " (33, u'ed897796'): 199,\n",
       " (24, u'419b1d83'): 200,\n",
       " (16, u'abd52030'): 117132,\n",
       " (25, u'33c5a752'): 208,\n",
       " (24, u'38d62f84'): 194179,\n",
       " (15, u'32956f87'): 117136,\n",
       " (25, u'7ce5cdf0'): 211,\n",
       " (19, u'd981b459'): 151998,\n",
       " (15, u'2b2d3985'): 1199,\n",
       " (24, u'4c2f2420'): 117140,\n",
       " (33, u'fdcbf637'): 116085,\n",
       " (28, u'4e67a946'): 37536,\n",
       " (38, u'86400f89'): 117145,\n",
       " (4, u'2700'): 117146,\n",
       " (28, u'a2edf4a8'): 117148,\n",
       " (27, u'4bc51dd6'): 220,\n",
       " (16, u'8e9eaf96'): 117149,\n",
       " (16, u'787f49fe'): 221,\n",
       " (24, u'f6056b97'): 117150,\n",
       " (28, u'4e8f2af9'): 166069,\n",
       " (24, u'21d5d5d6'): 224829,\n",
       " (15, u'0e8b6521'): 223,\n",
       " (33, u'6f6a6d41'): 118248,\n",
       " (22, u'72618067'): 117155,\n",
       " (28, u'2f5e300e'): 53743,\n",
       " (22, u'dc4cee7d'): 117157,\n",
       " (38, u'fdd35dbf'): 229,\n",
       " (33, u'348df4ae'): 230,\n",
       " (24, u'55adc003'): 117159,\n",
       " (27, u'339a575d'): 62525,\n",
       " (23, u'6872a82d'): 117162,\n",
       " (27, u'e2eed5e7'): 117164,\n",
       " (6, u'1089'): 235,\n",
       " (31, u'47abbba5'): 117165,\n",
       " (15, u'c91bfecd'): 1348,\n",
       " (23, u'7c934a0b'): 237,\n",
       " (16, u'e9370452'): 117167,\n",
       " (36, u'b4dfa9af'): 194185,\n",
       " (24, u'ea7f131e'): 117169,\n",
       " (25, u'e0a5ea97'): 239,\n",
       " (15, u'911249e2'): 240,\n",
       " (33, u'225f8d76'): 194191,\n",
       " (33, u'792d2124'): 241,\n",
       " (24, u'8380e8d9'): 117174,\n",
       " (33, u'14d1741a'): 72285,\n",
       " (28, u'20584347'): 118386,\n",
       " (28, u'e86d1dc1'): 245,\n",
       " (36, u'a90e7e17'): 117178,\n",
       " (19, u'0b436a0f'): 117179,\n",
       " (28, u'7d67934b'): 1413,\n",
       " (33, u'42ffd816'): 248,\n",
       " (4, u'2763'): 252,\n",
       " (2, u'202'): 225861,\n",
       " (33, u'dff6590a'): 253,\n",
       " (28, u'a0374e72'): 117184,\n",
       " (24, u'c22b9e44'): 117185,\n",
       " (33, u'8710777e'): 117187,\n",
       " (4, u'21618'): 117188,\n",
       " (19, u'31e92b25'): 255,\n",
       " (16, u'faab7dcf'): 257,\n",
       " (15, u'0c1d8432'): 258,\n",
       " (24, u'257fcc4d'): 261,\n",
       " (28, u'87acb535'): 262,\n",
       " (24, u'cf35de3a'): 263,\n",
       " (38, u'a2ba1b2b'): 196902,\n",
       " (33, u'cc1df8a7'): 265,\n",
       " (15, u'708942c8'): 42915,\n",
       " (33, u'4e94c43a'): 49916,\n",
       " (15, u'498d445f'): 117199,\n",
       " (24, u'8476d7ec'): 269,\n",
       " (16, u'e14841dd'): 117202,\n",
       " (33, u'd367468d'): 118563,\n",
       " (28, u'b03f023d'): 272,\n",
       " (4, u'36246'): 110452,\n",
       " (4, u'3617'): 117209,\n",
       " (24, u'99bba64c'): 51363,\n",
       " (4, u'17989'): 117210,\n",
       " (8, u'203'): 277,\n",
       " (15, u'a09ad843'): 117211,\n",
       " (33, u'd1eb190a'): 279,\n",
       " (33, u'3dd6a473'): 117213,\n",
       " (27, u'4b767816'): 281,\n",
       " (24, u'c514977c'): 118607,\n",
       " (22, u'70f7148c'): 282,\n",
       " (15, u'18e2c607'): 118612,\n",
       " (15, u'57e14a02'): 283,\n",
       " (15, u'2e9384ec'): 285,\n",
       " (19, u'bd8f1e36'): 286,\n",
       " (38, u'7132fed8'): 287,\n",
       " (15, u'6f9f4b96'): 117218,\n",
       " (36, u'f2d06cff'): 117219,\n",
       " (4, u'40419'): 117221,\n",
       " (38, u'8187f278'): 117222,\n",
       " (24, u'91fb5b09'): 1661,\n",
       " (24, u'94a1cc80'): 117223,\n",
       " (4, u'2903'): 292,\n",
       " (24, u'99f7a60b'): 94221,\n",
       " (38, u'e33bd7a8'): 117225,\n",
       " (38, u'bac49db7'): 296,\n",
       " (28, u'542fac53'): 176641,\n",
       " (38, u'870dedd8'): 298,\n",
       " (19, u'ed420b52'): 118683,\n",
       " (28, u'754581b6'): 299,\n",
       " (16, u'5801ce7b'): 117228,\n",
       " (27, u'0d110114'): 117230,\n",
       " (24, u'074da5a7'): 117231,\n",
       " (22, u'3d8bc3c8'): 302,\n",
       " (24, u'be776ccf'): 117233,\n",
       " (33, u'7507f701'): 303,\n",
       " (24, u'c729b75e'): 305,\n",
       " (33, u'c18709b6'): 118733,\n",
       " (33, u'910370ea'): 117237,\n",
       " (22, u'1f525c12'): 117238,\n",
       " (15, u'9f525341'): 309,\n",
       " (16, u'02697049'): 117242,\n",
       " (5, u'778'): 314,\n",
       " (28, u'0c4acef2'): 37554,\n",
       " (24, u'b4de451d'): 117245,\n",
       " (38, u'00e78c76'): 23010,\n",
       " (24, u'0295ea4a'): 223351,\n",
       " (5, u'2247'): 318,\n",
       " (24, u'a90cb10c'): 117250,\n",
       " (24, u'c736ba0f'): 1806,\n",
       " (5, u'1583'): 323,\n",
       " (2, u'705'): 194200,\n",
       " (24, u'd8793fff'): 117257,\n",
       " (15, u'd768fab0'): 117258,\n",
       " (23, u'd2056509'): 21141,\n",
       " (24, u'26327d52'): 117259,\n",
       " (31, u'a2a24dde'): 334,\n",
       " (4, u'5922'): 335,\n",
       " (16, u'e57e89ac'): 118886,\n",
       " (38, u'97a2baf6'): 337,\n",
       " (33, u'bcc05cc7'): 117265,\n",
       " (16, u'cdd33475'): 117266,\n",
       " (33, u'7f2a022f'): 134060,\n",
       " (24, u'28b76942'): 341,\n",
       " (22, u'b1e940ac'): 117269,\n",
       " (19, u'd8a43e61'): 117270,\n",
       " (28, u'c0f2898b'): 343,\n",
       " (4, u'14677'): 344,\n",
       " (22, u'22a13fdc'): 345,\n",
       " (1, u'2985'): 117275,\n",
       " (4, u'406272'): 212288,\n",
       " (15, u'b4b30d8a'): 117277,\n",
       " (24, u'6ee4e8a3'): 117279,\n",
       " (24, u'8fcbd629'): 348,\n",
       " (22, u'59da49de'): 117280,\n",
       " (15, u'8c5fdcdc'): 117281,\n",
       " (22, u'e39aa247'): 82524,\n",
       " (22, u'7fdb06fe'): 350,\n",
       " (4, u'4603'): 119005,\n",
       " (24, u'509dfd78'): 117288,\n",
       " (33, u'8368898c'): 354,\n",
       " (24, u'6beb5e65'): 75410,\n",
       " (24, u'97d40daa'): 357,\n",
       " (33, u'aaf7d15f'): 68337,\n",
       " (24, u'33a6c12c'): 359,\n",
       " (33, u'8bba9b8c'): 360,\n",
       " (16, u'b27deb3d'): 117295,\n",
       " (22, u'2464efa6'): 362,\n",
       " (27, u'c7d1918f'): 365,\n",
       " (16, u'660dd111'): 117299,\n",
       " (36, u'0505abc3'): 207390,\n",
       " (33, u'07d468ca'): 367,\n",
       " (33, u'eae782a7'): 117301,\n",
       " (36, u'ba38fa19'): 117302,\n",
       " (36, u'9227513b'): 177290,\n",
       " (28, u'ad14ac61'): 117304,\n",
       " (38, u'195abe7f'): 373,\n",
       " (19, u'424fbb9a'): 117307,\n",
       " (16, u'a4028bce'): 117309,\n",
       " (33, u'bb72e162'): 71822,\n",
       " (4, u'10111'): 117312,\n",
       " (33, u'cae0b81d'): 117313,\n",
       " (15, u'd32c36b8'): 379,\n",
       " (28, u'9f98918d'): 380,\n",
       " (28, u'4e659bd1'): 381,\n",
       " (30, u'a7cf409e'): 117317,\n",
       " (24, u'f97789e7'): 383,\n",
       " (28, u'ea99aa4c'): 117318,\n",
       " (22, u'83ff688a'): 384,\n",
       " (22, u'fffb8c4a'): 385,\n",
       " (24, u'668bc20f'): 117321,\n",
       " (33, u'e94c8fb6'): 60788,\n",
       " (15, u'2d2aad91'): 117324,\n",
       " (19, u'd3d2b34a'): 391,\n",
       " (30, u'bcc05e92'): 117325,\n",
       " (4, u'155944'): 392,\n",
       " (25, u'6077fd1f'): 393,\n",
       " (28, u'3efebe36'): 117329,\n",
       " (33, u'700dba0a'): 11310,\n",
       " (25, u'5a504385'): 396,\n",
       " (16, u'6584a2cb'): 117334,\n",
       " (4, u'219052'): 119283,\n",
       " (16, u'3845f97f'): 398,\n",
       " (33, u'90199639'): 117336,\n",
       " (1, u'2363'): 117337,\n",
       " (28, u'b35fcd17'): 119344,\n",
       " (24, u'1be18dfc'): 405,\n",
       " (15, u'929494b7'): 214341,\n",
       " (5, u'948'): 117342,\n",
       " (33, u'414b6776'): 406,\n",
       " (4, u'138814'): 117344,\n",
       " (4, u'18825'): 117345,\n",
       " (4, u'8615'): 409,\n",
       " (24, u'df420e07'): 410,\n",
       " (24, u'5202318f'): 155316,\n",
       " (28, u'a0f8d9ea'): 64556,\n",
       " (16, u'882d64b3'): 117350,\n",
       " (16, u'c788ee73'): 415,\n",
       " (28, u'fd9de486'): 94890,\n",
       " (22, u'9b0174eb'): 417,\n",
       " (24, u'a0913670'): 117354,\n",
       " (4, u'558'): 117355,\n",
       " (15, u'2f992be5'): 117357,\n",
       " (24, u'55000423'): 158592,\n",
       " (15, u'99e59e41'): 32373,\n",
       " (19, u'f48ecf39'): 117359,\n",
       " (16, u'ae377fab'): 422,\n",
       " (22, u'f6e8fa66'): 424,\n",
       " (16, u'6a26de96'): 117361,\n",
       " (23, u'1e0ad8ae'): 57167,\n",
       " (15, u'658e1f1c'): 427,\n",
       " (33, u'dc931bfd'): 117364,\n",
       " (4, u'7440'): 117365,\n",
       " (27, u'5a920093'): 103720,\n",
       " (38, u'bb85bd60'): 117368,\n",
       " (24, u'6b0a0852'): 430,\n",
       " (27, u'4017b542'): 432,\n",
       " (19, u'7f2c5a6e'): 433,\n",
       " (16, u'1e1f3f9b'): 117372,\n",
       " (36, u'cb8a00d8'): 435,\n",
       " (33, u'd8d9f97a'): 117373,\n",
       " (28, u'4e02cba8'): 145179,\n",
       " (33, u'c2f2a17e'): 436,\n",
       " (4, u'3546'): 437,\n",
       " (15, u'a5b8eb8c'): 117378,\n",
       " (28, u'd0fa1f39'): 439,\n",
       " (30, u'4ab85dab'): 117381,\n",
       " (4, u'3232'): 440,\n",
       " (15, u'e89289e4'): 119595,\n",
       " (4, u'30600'): 116667,\n",
       " (16, u'ffec914e'): 117383,\n",
       " (33, u'ab5f9422'): 442,\n",
       " (33, u'9e5e9f14'): 119609,\n",
       " (33, u'4793760e'): 443,\n",
       " (19, u'f225ccd7'): 117385,\n",
       " (15, u'213afd6f'): 444,\n",
       " (27, u'f178eb3f'): 117386,\n",
       " (33, u'c82d0521'): 445,\n",
       " (4, u'2196'): 2599,\n",
       " (15, u'a16f7838'): 117393,\n",
       " (15, u'e0c4169b'): 117394,\n",
       " (22, u'37049274'): 2611,\n",
       " (16, u'74a4b1d7'): 455,\n",
       " (25, u'a39c6d4f'): 117398,\n",
       " (33, u'496aaf26'): 116864,\n",
       " (24, u'be230eb4'): 117399,\n",
       " (4, u'1484'): 117401,\n",
       " (24, u'f804ab1e'): 117405,\n",
       " (33, u'fe0a4de1'): 117407,\n",
       " (15, u'1c81733f'): 119776,\n",
       " (36, u'c1164d01'): 463,\n",
       " (4, u'45990'): 101492,\n",
       " (23, u'13429d76'): 194224,\n",
       " (33, u'3a3533fe'): 471,\n",
       " (33, u'af8dbbc6'): 117416,\n",
       " (15, u'73fdaffe'): 117417,\n",
       " (36, u'69d509d9'): 76864,\n",
       " (28, u'a2ac7f3a'): 475,\n",
       " (33, u'1e78cbb6'): 117420,\n",
       " (38, u'ce0bf6fc'): 117422,\n",
       " (33, u'589d87f4'): 478,\n",
       " (4, u'25391'): 117424,\n",
       " (24, u'ec16bec0'): 117425,\n",
       " (24, u'57fca2e2'): 117426,\n",
       " (15, u'9e8aa348'): 484,\n",
       " (19, u'37b45a2f'): 117427,\n",
       " (28, u'd3637fcb'): 2829,\n",
       " (16, u'5e5ec419'): 117430,\n",
       " (28, u'28fd3272'): 56574,\n",
       " (16, u'346deea2'): 2864,\n",
       " (24, u'f9dda023'): 117431,\n",
       " (28, u'a07dd866'): 2871,\n",
       " (4, u'14639'): 491,\n",
       " (24, u'fb997c6a'): 119985,\n",
       " (25, u'3a96d406'): 492,\n",
       " (28, u'eb3d4a29'): 493,\n",
       " (4, u'16452'): 117435,\n",
       " (24, u'df898cf1'): 120009,\n",
       " (15, u'be31c296'): 495,\n",
       " (24, u'c5df76e0'): 496,\n",
       " (15, u'689b62a1'): 497,\n",
       " (33, u'aa71dede'): 117440,\n",
       " (28, u'def71843'): 501,\n",
       " (33, u'32d5fcda'): 117445,\n",
       " (36, u'dc03137c'): 502,\n",
       " (33, u'301bf344'): 503,\n",
       " (15, u'5b0f36ea'): 117448,\n",
       " (15, u'806fe1f7'): 505,\n",
       " (16, u'e66e8856'): 117451,\n",
       " (15, u'6f1148b7'): 508,\n",
       " (15, u'7aaa4007'): 509,\n",
       " (22, u'cd9e8549'): 117456,\n",
       " (33, u'79e8c94c'): 117457,\n",
       " (24, u'eeb82cca'): 117458,\n",
       " (33, u'33ecb51c'): 513,\n",
       " (4, u'6827'): 183747,\n",
       " (16, u'a4b9d958'): 514,\n",
       " (15, u'abbe790e'): 37590,\n",
       " (2, u'1075'): 117462,\n",
       " (16, u'5270dac0'): 40252,\n",
       " (24, u'de1f2b47'): 117464,\n",
       " (4, u'4952'): 111205,\n",
       " (16, u'aeadef67'): 117468,\n",
       " (15, u'18d50636'): 103623,\n",
       " (15, u'725da529'): 523,\n",
       " (16, u'2d49483c'): 117471,\n",
       " (28, u'da56e953'): 3113,\n",
       " (16, u'3a176474'): 117472,\n",
       " (28, u'0c794472'): 37246,\n",
       " (28, u'10fa25d6'): 120229,\n",
       " (16, u'b284b2ff'): 526,\n",
       " (38, u'34c02cf7'): 527,\n",
       " (38, u'6b208992'): 528,\n",
       " (38, u'545894de'): 529,\n",
       " (16, u'9e95cba1'): 117477,\n",
       " (19, u'560cf45e'): 120264,\n",
       " (16, u'22e808c3'): 117480,\n",
       " (25, u'c906895f'): 209472,\n",
       " (16, u'e1180162'): 530,\n",
       " (36, u'8ee27b98'): 533,\n",
       " (22, u'9474ac23'): 117482,\n",
       " (24, u'1b1c9b43'): 117485,\n",
       " (30, u'13e2d249'): 536,\n",
       " (24, u'0b2d082c'): 202036,\n",
       " (15, u'4e09672f'): 539,\n",
       " (33, u'de952b21'): 117490,\n",
       " (24, u'd4218efa'): 178256,\n",
       " (15, u'e826f57b'): 9508,\n",
       " (4, u'14653'): 41653,\n",
       " (33, u'970e24d3'): 117492,\n",
       " (24, u'f377d645'): 3255,\n",
       " (33, u'07ad7f02'): 88236,\n",
       " (15, u'e383735d'): 117496,\n",
       " (33, u'1aef3f3e'): 207839,\n",
       " (1, u'866'): 553,\n",
       " (24, u'a3ec063f'): 120426,\n",
       " (33, u'f69e7095'): 554,\n",
       " (24, u'736bd39f'): 555,\n",
       " (4, u'8932'): 556,\n",
       " (16, u'ae0d399f'): 117502,\n",
       " (24, u'3a65544d'): 557,\n",
       " (28, u'0c49ba6b'): 117503,\n",
       " (16, u'ab4bb209'): 558,\n",
       " (16, u'3107bd33'): 194240,\n",
       " (28, u'0602c574'): 117506,\n",
       " (25, u'4cc724bd'): 562,\n",
       " (16, u'b238cdc4'): 206648,\n",
       " (4, u'445273'): 117507,\n",
       " (15, u'5bdb2d30'): 155348,\n",
       " (27, u'b388c23b'): 566,\n",
       " (4, u'4492'): 117512,\n",
       " (38, u'f3f85885'): 166587,\n",
       " (16, u'85d8763b'): 117514,\n",
       " (38, u'5e86d070'): 231275,\n",
       " (15, u'1acd18c8'): 3417,\n",
       " (27, u'bbd36ffe'): 117517,\n",
       " (24, u'449eddee'): 3425,\n",
       " (22, u'94e535d2'): 117518,\n",
       " (33, u'f11570ff'): 117519,\n",
       " (19, u'5df250c1'): 120570,\n",
       " (38, u'b4d1b3f8'): 576,\n",
       " (4, u'80893'): 120592,\n",
       " (36, u'a9b571c2'): 79496,\n",
       " (22, u'963d09c4'): 3476,\n",
       " (24, u'bbb71724'): 117526,\n",
       " (33, u'2e0b34cf'): 583,\n",
       " (4, u'13857'): 189856,\n",
       " (4, u'18132'): 585,\n",
       " (16, u'd4c1c11b'): 117529,\n",
       " (28, u'b2ae3c75'): 587,\n",
       " (16, u'721fc4b3'): 588,\n",
       " (28, u'f3a5e3ca'): 117533,\n",
       " (24, u'46443e93'): 590,\n",
       " (28, u'5bd84473'): 117534,\n",
       " (24, u'18f1839d'): 591,\n",
       " (16, u'b7a77bad'): 120658,\n",
       " (16, u'e5cf84bd'): 117536,\n",
       " (28, u'f4886e8b'): 117537,\n",
       " (4, u'8920'): 117539,\n",
       " (33, u'48df96d0'): 594,\n",
       " (28, u'2980061e'): 117541,\n",
       " (24, u'08a9c0ef'): 596,\n",
       " (33, u'8ff7f68b'): 597,\n",
       " (15, u'94340979'): 598,\n",
       " (38, u'd0190f89'): 120725,\n",
       " (15, u'fa2dba47'): 600,\n",
       " (28, u'be24eeeb'): 604,\n",
       " (16, u'ea1cfe15'): 117553,\n",
       " (15, u'486b0730'): 137866,\n",
       " (15, u'a5ebe864'): 117554,\n",
       " (24, u'55af3b38'): 208612,\n",
       " (4, u'7047'): 608,\n",
       " (24, u'93f48bcd'): 117558,\n",
       " (28, u'1489b5d0'): 117559,\n",
       " (28, u'01171f7e'): 76888,\n",
       " (28, u'a26e9590'): 120792,\n",
       " (22, u'fb79c199'): 612,\n",
       " (28, u'f38ceb2e'): 613,\n",
       " (28, u'e51023e5'): 614,\n",
       " (22, u'e5bd4310'): 615,\n",
       " (24, u'6aaba33c'): 616,\n",
       " (33, u'78aeeb83'): 617,\n",
       " (16, u'bf872aa0'): 117565,\n",
       " (28, u'107ae4c8'): 117567,\n",
       " (33, u'4e8af245'): 621,\n",
       " (38, u'd8ee8be8'): 117569,\n",
       " (33, u'deafcf7c'): 622,\n",
       " (4, u'10215'): 37609,\n",
       " (38, u'1f9cc68f'): 3731,\n",
       " (33, u'3b896253'): 117572,\n",
       " (5, u'843'): 120899,\n",
       " (27, u'a1fa3e9c'): 70131,\n",
       " (38, u'ee88160c'): 626,\n",
       " (38, u'7dd05fc2'): 117575,\n",
       " (33, u'a67dd03a'): 120919,\n",
       " (23, u'58d7f05a'): 120939,\n",
       " (15, u'11d80afd'): 628,\n",
       " (25, u'c1dacb89'): 630,\n",
       " (28, u'9061217f'): 632,\n",
       " (15, u'45536426'): 633,\n",
       " (4, u'20361'): 117582,\n",
       " (24, u'7cf8e979'): 37611,\n",
       " (24, u'adc1c28d'): 636,\n",
       " (28, u'8ba3b383'): 637,\n",
       " (28, u'60459c23'): 639,\n",
       " (28, u'9fd83119'): 117587,\n",
       " (28, u'0c8af43f'): 117589,\n",
       " (36, u'ec2a3626'): 642,\n",
       " (4, u'20198'): 117590,\n",
       " (5, u'1533'): 121020,\n",
       " (33, u'b4c10f26'): 216446,\n",
       " (16, u'd40ce130'): 71058,\n",
       " (36, u'0004350e'): 117594,\n",
       " (28, u'08a7b43a'): 648,\n",
       " (24, u'60c112c2'): 76893,\n",
       " (33, u'6339be0d'): 117596,\n",
       " (38, u'3c06846c'): 173956,\n",
       " (4, u'11121'): 117600,\n",
       " (24, u'865c956d'): 655,\n",
       " (24, u'4b0f9a19'): 656,\n",
       " (24, u'9c19015b'): 657,\n",
       " (33, u'4cda9027'): 232614,\n",
       " (4, u'31206'): 117604,\n",
       " (25, u'386226ef'): 117605,\n",
       " (28, u'9ef84766'): 117608,\n",
       " (27, u'95cadf4e'): 660,\n",
       " (22, u'd1844ccc'): 661,\n",
       " (36, u'44cab774'): 662,\n",
       " (1, u'3002'): 664,\n",
       " (22, u'ea23b002'): 117614,\n",
       " (15, u'4d648fc1'): 117616,\n",
       " (33, u'f0abdfa3'): 666,\n",
       " (22, u'cbf8c21a'): 4049,\n",
       " (36, u'4d12b50e'): 121195,\n",
       " (33, u'06200d84'): 117619,\n",
       " (33, u'a3c7ea2a'): 4066,\n",
       " (33, u'6e6dddf5'): 131001,\n",
       " (33, u'283bfe9d'): 4072,\n",
       " (33, u'0bedc436'): 671,\n",
       " (22, u'e4d09f54'): 117625,\n",
       " (16, u'f95550af'): 117626,\n",
       " (38, u'd9cad292'): 677,\n",
       " (22, u'8e97febe'): 117629,\n",
       " (15, u'62f03ff6'): 683,\n",
       " (16, u'ec11b434'): 117630,\n",
       " (4, u'1448'): 117632,\n",
       " (24, u'd62e7462'): 684,\n",
       " (15, u'd239903d'): 117633,\n",
       " (28, u'9abc27c1'): 685,\n",
       " (28, u'3b52f473'): 686,\n",
       " (16, u'08b1a227'): 117636,\n",
       " (22, u'6bcb329c'): 76902,\n",
       " (14, u'f6f4fe4b'): 117637,\n",
       " (4, u'11329'): 117640,\n",
       " (28, u'759db524'): 691,\n",
       " (36, u'96a376a2'): 121343,\n",
       " (33, u'163489f1'): 117643,\n",
       " (4, u'23569'): 695,\n",
       " (15, u'bdfb2581'): 117646,\n",
       " (33, u'183c39b6'): 696,\n",
       " (15, u'324feda8'): 79964,\n",
       " (24, u'6a672fb7'): 117649,\n",
       " (4, u'5577'): 699,\n",
       " (28, u'89e6f29f'): 221040,\n",
       " (20, u'a611b90f'): 4279,\n",
       " (22, u'0e14b5d4'): 117654,\n",
       " (38, u'b17b66b8'): 4284,\n",
       " (22, u'75501418'): 117655,\n",
       " (15, u'f8d5c9e6'): 117657,\n",
       " (24, u'85e3d9c1'): 80230,\n",
       " (15, u'6fdfd217'): 117659,\n",
       " (33, u'c65b0138'): 117660,\n",
       " (15, u'c357b67b'): 4312,\n",
       " (28, u'416bc161'): 706,\n",
       " (15, u'20ef9d5b'): 4321,\n",
       " (28, u'41d6c40c'): 117664,\n",
       " (15, u'8276436a'): 44895,\n",
       " (33, u'802f221a'): 117665,\n",
       " (24, u'483c5df6'): 229093,\n",
       " (15, u'29c43d18'): 117666,\n",
       " (4, u'49314'): 81427,\n",
       " (15, u'e0f439cd'): 117668,\n",
       " (15, u'53eea073'): 711,\n",
       " (28, u'1e23a1ae'): 121501,\n",
       " (33, u'c2019de1'): 24963,\n",
       " (15, u'db5cbf52'): 4378,\n",
       " (24, u'e9efe11e'): 117671,\n",
       " (28, u'1bf609d6'): 37624,\n",
       " (15, u'd361f392'): 117672,\n",
       " (28, u'743aa916'): 717,\n",
       " (4, u'10383'): 718,\n",
       " (15, u'1fd0c268'): 117674,\n",
       " (38, u'9f96fcef'): 719,\n",
       " (23, u'2ef45c3b'): 121548,\n",
       " (22, u'2e26d338'): 121557,\n",
       " (24, u'e5651a30'): 724,\n",
       " (24, u'58cd4492'): 117679,\n",
       " (4, u'18992'): 725,\n",
       " (22, u'a11e45a3'): 117680,\n",
       " (36, u'7307a76b'): 117682,\n",
       " (33, u'79e63778'): 117685,\n",
       " (19, u'bce85ecf'): 729,\n",
       " (24, u'0cf7753d'): 197419,\n",
       " (33, u'8bcad878'): 730,\n",
       " (33, u'ff4a7805'): 732,\n",
       " (15, u'4ba99be6'): 117689,\n",
       " (38, u'fb7ddcf0'): 734,\n",
       " (38, u'bc40c72e'): 38754,\n",
       " (15, u'ada1712b'): 737,\n",
       " (33, u'9dcdcc78'): 738,\n",
       " (4, u'10853'): 739,\n",
       " (16, u'9bc1c345'): 740,\n",
       " (8, u'501'): 117694,\n",
       " (38, u'19dda43b'): 37627,\n",
       " (4, u'126800'): 117697,\n",
       " (15, u'c2f00b93'): 743,\n",
       " (28, u'c5ecb485'): 214716,\n",
       " (28, u'828743e6'): 121695,\n",
       " (36, u'8b5bb744'): 746,\n",
       " (28, u'235db78c'): 748,\n",
       " (33, u'ed2de937'): 749,\n",
       " (28, u'491a6442'): 117704,\n",
       " (36, u'da4beef3'): 751,\n",
       " (33, u'0122b1f4'): 117705,\n",
       " (28, u'2ef99fbc'): 752,\n",
       " (15, u'721888b6'): 117706,\n",
       " (24, u'22f2d826'): 753,\n",
       " (16, u'f1a4135f'): 117708,\n",
       " (33, u'3a5a1364'): 117709,\n",
       " (33, u'43af7fff'): 755,\n",
       " (15, u'9cbfb413'): 117711,\n",
       " (15, u'85f0d7fb'): 121764,\n",
       " (28, u'f9c70283'): 757,\n",
       " (13, u'1eb90361'): 759,\n",
       " (24, u'23d271a3'): 117713,\n",
       " (28, u'45d0c554'): 55189,\n",
       " (33, u'4535af10'): 761,\n",
       " (36, u'3da47871'): 227428,\n",
       " (22, u'8a592574'): 167874,\n",
       " (24, u'344f80b2'): 117720,\n",
       " (4, u'21659'): 765,\n",
       " (24, u'659ed597'): 768,\n",
       " (33, u'a77d92e2'): 769,\n",
       " (16, u'd0efe1f9'): 30950,\n",
       " (19, u'3dab34db'): 771,\n",
       " (36, u'6f7da5df'): 117726,\n",
       " (22, u'86439eb8'): 117728,\n",
       " (13, u'edf57954'): 9945,\n",
       " (1, u'2286'): 190182,\n",
       " (16, u'f1051fa8'): 4724,\n",
       " (19, u'73e2fc5e'): 117729,\n",
       " (28, u'c8c5d1fa'): 117731,\n",
       " (28, u'dc32ed4e'): 779,\n",
       " (24, u'7638bc22'): 117733,\n",
       " (24, u'37bccdb7'): 155387,\n",
       " (15, u'aa62e47b'): 117735,\n",
       " (23, u'6a3a32be'): 784,\n",
       " (33, u'0ab77755'): 117737,\n",
       " (19, u'b6113a92'): 786,\n",
       " (36, u'b1df4bf6'): 117739,\n",
       " (33, u'348cb8af'): 97702,\n",
       " (19, u'24b4189b'): 121942,\n",
       " (4, u'9593'): 4802,\n",
       " (4, u'92617'): 792,\n",
       " (22, u'c1d4161a'): 117744,\n",
       " (38, u'a99ad812'): 215877,\n",
       " (15, u'3ed8434d'): 3682,\n",
       " (33, u'1a74de29'): 89090,\n",
       " (33, u'866c7776'): 117751,\n",
       " (4, u'40933'): 4853,\n",
       " (15, u'61409747'): 122014,\n",
       " (22, u'e910df0c'): 801,\n",
       " (24, u'2040eb2f'): 122019,\n",
       " (4, u'40944'): 4872,\n",
       " (36, u'b3c5c034'): 117758,\n",
       " (27, u'10cac771'): 10874,\n",
       " (36, u'13e1f96d'): 180362,\n",
       " (15, u'0f6b46d4'): 117762,\n",
       " (5, u'315'): 117763,\n",
       " (4, u'6298'): 117764,\n",
       " (24, u'925e1264'): 52006,\n",
       " (28, u'336417d7'): 117766,\n",
       " (24, u'2eb6602d'): 117767,\n",
       " (15, u'e3efca2d'): 82320,\n",
       " (28, u'e8344b1f'): 117768,\n",
       " (38, u'fc0e7e37'): 4921,\n",
       " (33, u'66f246ce'): 117770,\n",
       " (28, u'e6135ecc'): 117772,\n",
       " (23, u'f6c80bbd'): 77806,\n",
       " (19, u'35ff45a8'): 192821,\n",
       " (16, u'fbce520a'): 811,\n",
       " (23, u'd001663c'): 76448,\n",
       " (16, u'460d721a'): 117775,\n",
       " (16, u'67ab4513'): 117776,\n",
       " (33, u'4bab48f8'): 816,\n",
       " (24, u'8a916696'): 817,\n",
       " (16, u'88887d97'): 117778,\n",
       " (28, u'e5ad0ccc'): 819,\n",
       " (38, u'0d5f5b25'): 117780,\n",
       " (24, u'c41150cb'): 117781,\n",
       " (19, u'b933b82d'): 821,\n",
       " (28, u'f179457f'): 176690,\n",
       " (27, u'249959f2'): 117787,\n",
       " (24, u'ff80e53d'): 117789,\n",
       " (33, u'5a1e26dc'): 828,\n",
       " (28, u'3712b33b'): 185087,\n",
       " (33, u'453a7d39'): 117795,\n",
       " (15, u'44934710'): 117796,\n",
       " (30, u'a0c3c42c'): 122233,\n",
       " (33, u'f76c0bfa'): 835,\n",
       " (24, u'8452f383'): 231181,\n",
       " (38, u'cf0282a4'): 836,\n",
       " (33, u'dedebe85'): 117805,\n",
       " (4, u'3569'): 194290,\n",
       " (33, u'c8f620ed'): 186998,\n",
       " (24, u'ffb78646'): 117807,\n",
       " (24, u'd58319df'): 115740,\n",
       " (24, u'e6bb9905'): 843,\n",
       " (1, u'2250'): 844,\n",
       " (24, u'3677da33'): 845,\n",
       " (38, u'd764e5af'): 5148,\n",
       " (36, u'77136993'): 117812,\n",
       " (33, u'146116a0'): 117814,\n",
       " (16, u'07f84acf'): 117816,\n",
       " (28, u'01fa3a2e'): 122335,\n",
       " (33, u'45fc60b4'): 117818,\n",
       " (16, u'ad237b7d'): 84922,\n",
       " (28, u'9ef26907'): 852,\n",
       " (33, u'fb18903a'): 117819,\n",
       " (33, u'e288b1ab'): 5189,\n",
       " (22, u'8d78680b'): 207932,\n",
       " (15, u'c7a363ab'): 122365,\n",
       " (25, u'a0abbb5b'): 856,\n",
       " (36, u'd43ac68b'): 117822,\n",
       " (24, u'ba4939ab'): 117823,\n",
       " (15, u'2852cd5e'): 117824,\n",
       " (8, u'269'): 858,\n",
       " (22, u'410a0a99'): 117825,\n",
       " (33, u'd32ef27f'): 859,\n",
       " (5, u'1301'): 860,\n",
       " (19, u'513e6e38'): 117828,\n",
       " (16, u'd87670d4'): 48693,\n",
       " (24, u'1e3a9eb6'): 863,\n",
       " (4, u'20404'): 155403,\n",
       " (24, u'2397259a'): 865,\n",
       " (24, u'feff5931'): 224530,\n",
       " (16, u'62b4602e'): 117835,\n",
       " (24, u'89a3c982'): 117837,\n",
       " (15, u'80d27639'): 867,\n",
       " (23, u'3ac1b508'): 868,\n",
       " (36, u'2c0a3bc5'): 117839,\n",
       " (33, u'5c3c860a'): 870,\n",
       " (33, u'dc064822'): 872,\n",
       " (15, u'530d306e'): 155406,\n",
       " (38, u'4e6f1778'): 876,\n",
       " (24, u'60eeb3a2'): 37653,\n",
       " (24, u'af44e0c6'): 117843,\n",
       " (4, u'2342'): 117844,\n",
       " (33, u'24d7b726'): 122511,\n",
       " (15, u'992301fe'): 878,\n",
       " (22, u'7ad12142'): 116163,\n",
       " (33, u'69c008da'): 100738,\n",
       " (15, u'abe6d476'): 881,\n",
       " (28, u'c28fd54c'): 117850,\n",
       " (4, u'284482'): 5363,\n",
       " (28, u'a1fc442a'): 884,\n",
       " (8, u'770'): 117851,\n",
       " (4, u'23713'): 181537,\n",
       " (33, u'9b39f186'): 117854,\n",
       " (24, u'adbdb748'): 887,\n",
       " (4, u'17271'): 184155,\n",
       " (33, u'8fd51436'): 889,\n",
       " (24, u'6f04031f'): 890,\n",
       " (19, u'7541a912'): 117856,\n",
       " (33, u'23e0f56c'): 117857,\n",
       " (28, u'fc584510'): 5424,\n",
       " (28, u'12351f1e'): 895,\n",
       " (38, u'dc802dd2'): 117858,\n",
       " (2, u'69'): 117859,\n",
       " (24, u'e65f5005'): 55120,\n",
       " (15, u'afb6e018'): 100438,\n",
       " (24, u'994524c6'): 93812,\n",
       " (33, u'dbc902dd'): 208774,\n",
       " (33, u'10126c99'): 900,\n",
       " (33, u'3327125e'): 117866,\n",
       " (16, u'60d55a2f'): 117867,\n",
       " (38, u'a3b08231'): 13799,\n",
       " (15, u'6dbc49f5'): 76947,\n",
       " (36, u'595b0da6'): 904,\n",
       " (28, u'3445057d'): 905,\n",
       " (15, u'cf01a5aa'): 117871,\n",
       " (38, u'0c884863'): 907,\n",
       " (25, u'fe3942e2'): 117872,\n",
       " (24, u'98ad35ff'): 908,\n",
       " (28, u'3c7654aa'): 910,\n",
       " (16, u'832e8239'): 911,\n",
       " (16, u'341738ca'): 65250,\n",
       " (24, u'14a7fc50'): 188601,\n",
       " (23, u'3240ea7b'): 117877,\n",
       " (24, u'ffcbb5e7'): 913,\n",
       " (24, u'68049b06'): 117878,\n",
       " (1, u'83'): 5557,\n",
       " (15, u'dca9ecaf'): 196980,\n",
       " (4, u'58430'): 117881,\n",
       " (28, u'ff19fd0b'): 916,\n",
       " (4, u'344'): 920,\n",
       " (15, u'f9d829e0'): 112690,\n",
       " (28, u'654bb0ec'): 122784,\n",
       " (24, u'7d21f7be'): 923,\n",
       " (36, u'b26ec48d'): 924,\n",
       " (16, u'dee122fe'): 65641,\n",
       " (36, u'c440aa3c'): 117887,\n",
       " (33, u'cb3da701'): 16547,\n",
       " (24, u'b06cad7c'): 927,\n",
       " (24, u'2e671dcb'): 929,\n",
       " (30, u'd94f84e4'): 933,\n",
       " (24, u'd160a5b8'): 117893,\n",
       " (36, u'15f3d444'): 117894,\n",
       " (16, u'cd60cc3d'): 935,\n",
       " (4, u'21607'): 117895,\n",
       " (19, u'cdddf2ed'): 155416,\n",
       " (28, u'1f683be0'): 122878,\n",
       " (28, u'1eeb3661'): 117899,\n",
       " (33, u'630396eb'): 117900,\n",
       " (28, u'51881a86'): 939,\n",
       " (22, u'07134e2e'): 122901,\n",
       " (22, u'72ea60f7'): 941,\n",
       " (24, u'e704de93'): 117902,\n",
       " (38, u'd64cd8a6'): 944,\n",
       " (8, u'734'): 117904,\n",
       " (27, u'b96e7224'): 948,\n",
       " (33, u'7442ec89'): 117906,\n",
       " (33, u'2c3aef2a'): 951,\n",
       " (0, u'158'): 117909,\n",
       " (16, u'80db4395'): 117910,\n",
       " (4, u'36226'): 955,\n",
       " (33, u'9484a6ed'): 37668,\n",
       " (15, u'91af246f'): 10285,\n",
       " (38, u'0b6e75ab'): 958,\n",
       " (15, u'f1b533e7'): 122993,\n",
       " (15, u'74887766'): 960,\n",
       " (28, u'6d6d8284'): 962,\n",
       " (33, u'6ec3d5e8'): 963,\n",
       " (33, u'0c0d24e0'): 123023,\n",
       " (4, u'298353'): 968,\n",
       " (33, u'27b82df3'): 117925,\n",
       " (22, u'0528c700'): 123082,\n",
       " (28, u'debcecce'): 970,\n",
       " (33, u'efe03c2b'): 123096,\n",
       " (28, u'151a7157'): 972,\n",
       " (38, u'826dc169'): 117930,\n",
       " (25, u'97fd470f'): 975,\n",
       " (15, u'c405cb4c'): 117933,\n",
       " (33, u'77799c4f'): 117935,\n",
       " (24, u'5abb05a0'): 41450,\n",
       " (4, u'3983'): 147921,\n",
       " (28, u'48cacb3d'): 10286,\n",
       " (22, u'faa96346'): 981,\n",
       " (4, u'16025'): 123152,\n",
       " (33, u'2800fdf2'): 117939,\n",
       " (4, u'11386'): 982,\n",
       " (38, u'723c999a'): 117941,\n",
       " (15, u'89c1b163'): 984,\n",
       " (33, u'c7cdc643'): 985,\n",
       " (24, u'49246743'): 117945,\n",
       " ...}"
      ]
     },
     "execution_count": 134,
     "metadata": {},
     "output_type": "execute_result"
    }
   ],
   "source": [
    "ctrOHEDict"
   ]
  },
  {
   "cell_type": "code",
   "execution_count": 108,
   "metadata": {
    "collapsed": false
   },
   "outputs": [
    {
     "name": "stdout",
     "output_type": "stream",
     "text": [
      "1 test passed.\n",
      "1 test passed.\n"
     ]
    }
   ],
   "source": [
    "# TEST Create an OHE dictionary from the dataset (3c)\n",
    "Test.assertEquals(numCtrOHEFeats, 233286, 'incorrect number of features in ctrOHEDict')\n",
    "Test.assertTrue((0, '') in ctrOHEDict, 'incorrect features in ctrOHEDict')"
   ]
  },
  {
   "cell_type": "markdown",
   "metadata": {},
   "source": [
    "#### ** (3d) Apply OHE to the dataset **\n",
    "#### Now let's use this OHE dictionary by starting with the raw training data and creating an RDD of [LabeledPoint](http://spark.apache.org/docs/1.3.1/api/python/pyspark.mllib.html#pyspark.mllib.regression.LabeledPoint) objects using OHE features.  To do this, complete the implementation of the `parseOHEPoint` function. Hint: `parseOHEPoint` is an extension of the `parsePoint` function from Part (3b) and it uses the `oneHotEncoding` function from Part (1d)."
   ]
  },
  {
   "cell_type": "code",
   "execution_count": 135,
   "metadata": {
    "collapsed": false
   },
   "outputs": [],
   "source": [
    "from pyspark.mllib.regression import LabeledPoint"
   ]
  },
  {
   "cell_type": "code",
   "execution_count": 136,
   "metadata": {
    "collapsed": false
   },
   "outputs": [
    {
     "name": "stdout",
     "output_type": "stream",
     "text": [
      "[LabeledPoint(0.0, (233286,[386,3077,6799,8264,8862,11800,12802,16125,17551,18566,29331,33132,39525,55794,61786,81396,82659,93573,96929,100677,109699,110646,112132,120260,128596,132397,132803,140620,160675,185498,190370,191146,195925,202664,204273,206055,222737,225958,229942],[1.0,1.0,1.0,1.0,1.0,1.0,1.0,1.0,1.0,1.0,1.0,1.0,1.0,1.0,1.0,1.0,1.0,1.0,1.0,1.0,1.0,1.0,1.0,1.0,1.0,1.0,1.0,1.0,1.0,1.0,1.0,1.0,1.0,1.0,1.0,1.0,1.0,1.0,1.0]))]\n"
     ]
    }
   ],
   "source": [
    "# TODO: Replace <FILL IN> with appropriate code\n",
    "def parseOHEPoint(point, OHEDict, numOHEFeats):\n",
    "    \"\"\"Obtain the label and feature vector for this raw observation.\n",
    "\n",
    "    Note:\n",
    "        You must use the function `oneHotEncoding` in this implementation or later portions\n",
    "        of this lab may not function as expected.\n",
    "\n",
    "    Args:\n",
    "        point (str): A comma separated string where the first value is the label and the rest\n",
    "            are features.\n",
    "        OHEDict (dict of (int, str) to int): Mapping of (featureID, value) to unique integer.\n",
    "        numOHEFeats (int): The number of unique features in the training dataset.\n",
    "\n",
    "    Returns:\n",
    "        LabeledPoint: Contains the label for the observation and the one-hot-encoding of the\n",
    "            raw features based on the provided OHE dictionary.\n",
    "    \"\"\"\n",
    "    return LabeledPoint(point.split(',')[0], oneHotEncoding(parsePoint(point), OHEDict, numOHEFeats))\n",
    "\n",
    "OHETrainData = rawTrainData.map(lambda point: parseOHEPoint(point, ctrOHEDict, numCtrOHEFeats))\n",
    "OHETrainData.cache()\n",
    "print OHETrainData.take(1)\n",
    "\n",
    "# Check that oneHotEncoding function was used in parseOHEPoint\n",
    "backupOneHot = oneHotEncoding\n",
    "oneHotEncoding = None\n",
    "withOneHot = False\n",
    "try: parseOHEPoint(rawTrainData.take(1)[0], ctrOHEDict, numCtrOHEFeats)\n",
    "except TypeError: withOneHot = True\n",
    "oneHotEncoding = backupOneHot"
   ]
  },
  {
   "cell_type": "code",
   "execution_count": 137,
   "metadata": {
    "collapsed": false
   },
   "outputs": [
    {
     "name": "stdout",
     "output_type": "stream",
     "text": [
      "1 test passed.\n",
      "1 test passed.\n"
     ]
    }
   ],
   "source": [
    "# TEST Apply OHE to the dataset (3d)\n",
    "numNZ = sum(parsedTrainFeat.map(lambda x: len(x)).take(5))\n",
    "numNZAlt = sum(OHETrainData.map(lambda lp: len(lp.features.indices)).take(5))\n",
    "Test.assertEquals(numNZ, numNZAlt, 'incorrect implementation of parseOHEPoint')\n",
    "Test.assertTrue(withOneHot, 'oneHotEncoding not present in parseOHEPoint')"
   ]
  },
  {
   "cell_type": "markdown",
   "metadata": {},
   "source": [
    "#### **Visualization 1: Feature frequency **\n",
    "#### We will now visualize the number of times each of the 233,286 OHE features appears in the training data. We first compute the number of times each feature appears, then bucket the features by these counts.  The buckets are sized by powers of 2, so the first bucket corresponds to features that appear exactly once ( $ \\scriptsize 2^0 $ ), the second to features that appear twice ( $ \\scriptsize 2^1 $ ), the third to features that occur between three and four ( $ \\scriptsize 2^2 $ ) times, the fifth bucket is five to eight ( $ \\scriptsize 2^3 $ ) times and so on. The scatter plot below shows the logarithm of the bucket thresholds versus the logarithm of the number of features that have counts that fall in the buckets."
   ]
  },
  {
   "cell_type": "code",
   "execution_count": 138,
   "metadata": {
    "collapsed": false
   },
   "outputs": [
    {
     "name": "stdout",
     "output_type": "stream",
     "text": [
      "[(256, 748), (1024, 255), (2, 24076), (4, 16639), (32, 4755), (8, 11440), (64, 2627), (128, 1476), (16, 7752), (512, 414), (1, 162813)]\n"
     ]
    }
   ],
   "source": [
    "def bucketFeatByCount(featCount):\n",
    "    \"\"\"Bucket the counts by powers of two.\"\"\"\n",
    "    for i in range(11):\n",
    "        size = 2 ** i\n",
    "        if featCount <= size:\n",
    "            return size\n",
    "    return -1\n",
    "\n",
    "featCounts = (OHETrainData\n",
    "              .flatMap(lambda lp: lp.features.indices)\n",
    "              .map(lambda x: (x, 1))\n",
    "              .reduceByKey(lambda x, y: x + y))\n",
    "featCountsBuckets = (featCounts\n",
    "                     .map(lambda x: (bucketFeatByCount(x[1]), 1))\n",
    "                     .filter(lambda (k, v): k != -1)\n",
    "                     .reduceByKey(lambda x, y: x + y)\n",
    "                     .collect())\n",
    "print featCountsBuckets"
   ]
  },
  {
   "cell_type": "code",
   "execution_count": 139,
   "metadata": {
    "collapsed": false
   },
   "outputs": [],
   "source": [
    "import matplotlib.pyplot as plt\n",
    "\n",
    "x, y = zip(*featCountsBuckets)\n",
    "x, y = np.log(x), np.log(y)\n",
    "\n",
    "def preparePlot(xticks, yticks, figsize=(10.5, 6), hideLabels=False, gridColor='#999999',\n",
    "                gridWidth=1.0):\n",
    "    \"\"\"Template for generating the plot layout.\"\"\"\n",
    "    plt.close()\n",
    "    fig, ax = plt.subplots(figsize=figsize, facecolor='white', edgecolor='white')\n",
    "    ax.axes.tick_params(labelcolor='#999999', labelsize='10')\n",
    "    for axis, ticks in [(ax.get_xaxis(), xticks), (ax.get_yaxis(), yticks)]:\n",
    "        axis.set_ticks_position('none')\n",
    "        axis.set_ticks(ticks)\n",
    "        axis.label.set_color('#999999')\n",
    "        if hideLabels: axis.set_ticklabels([])\n",
    "    plt.grid(color=gridColor, linewidth=gridWidth, linestyle='-')\n",
    "    map(lambda position: ax.spines[position].set_visible(False), ['bottom', 'top', 'left', 'right'])\n",
    "    return fig, ax\n",
    "\n",
    "# generate layout and plot data\n",
    "fig, ax = preparePlot(np.arange(0, 10, 1), np.arange(4, 14, 2))\n",
    "ax.set_xlabel(r'$\\log_e(bucketSize)$'), ax.set_ylabel(r'$\\log_e(countInBucket)$')\n",
    "plt.scatter(x, y, s=14**2, c='#d6ebf2', edgecolors='#8cbfd0', alpha=0.75)\n",
    "pass"
   ]
  },
  {
   "cell_type": "markdown",
   "metadata": {},
   "source": [
    "#### **(3e) Handling unseen features **\n",
    "#### We naturally would like to repeat the process from Part (3d), e.g., to compute OHE features for the validation and test datasets.  However, we must be careful, as some categorical values will likely appear in new data that did not exist in the training data. To deal with this situation, update the `oneHotEncoding()` function from Part (1d) to ignore previously unseen categories, and then compute OHE features for the validation data."
   ]
  },
  {
   "cell_type": "code",
   "execution_count": 129,
   "metadata": {
    "collapsed": false
   },
   "outputs": [
    {
     "name": "stdout",
     "output_type": "stream",
     "text": [
      "[LabeledPoint(0.0, (233286,[7623,9238,15597,21650,31238,36177,36577,39536,49203,61797,66635,67253,68245,68344,73075,76724,81421,81485,92068,96986,98511,109720,117014,121550,141683,146472,147618,171119,184096,184644,185457,185819,194734,198514,201019,210722,213593,222178,227716],[1.0,1.0,1.0,1.0,1.0,1.0,1.0,1.0,1.0,1.0,1.0,1.0,1.0,1.0,1.0,1.0,1.0,1.0,1.0,1.0,1.0,1.0,1.0,1.0,1.0,1.0,1.0,1.0,1.0,1.0,1.0,1.0,1.0,1.0,1.0,1.0,1.0,1.0,1.0]))]\n"
     ]
    }
   ],
   "source": [
    "# TODO: Replace <FILL IN> with appropriate code\n",
    "def oneHotEncoding(rawFeats, OHEDict, numOHEFeats):\n",
    "    \"\"\"Produce a one-hot-encoding from a list of features and an OHE dictionary.\n",
    "\n",
    "    Note:\n",
    "        If a (featureID, value) tuple doesn't have a corresponding key in OHEDict it should be\n",
    "        ignored.\n",
    "\n",
    "    Args:\n",
    "        rawFeats (list of (int, str)): The features corresponding to a single observation.  Each\n",
    "            feature consists of a tuple of featureID and the feature's value. (e.g. sampleOne)\n",
    "        OHEDict (dict): A mapping of (featureID, value) to unique integer.\n",
    "        numOHEFeats (int): The total number of unique OHE features (combinations of featureID and\n",
    "            value).\n",
    "\n",
    "    Returns:\n",
    "        SparseVector: A SparseVector of length numOHEFeats with indicies equal to the unique\n",
    "            identifiers for the (featureID, value) combinations that occur in the observation and\n",
    "            with values equal to 1.0.\n",
    "    \"\"\"\n",
    "    return SparseVector(numOHEFeats, sorted([OHEDict[x] for x in rawFeats if x in OHEDict]), [1 for x in rawFeats if x in OHEDict])\n",
    "\n",
    "OHEValidationData = rawValidationData.map(lambda point: parseOHEPoint(point, ctrOHEDict, numCtrOHEFeats))\n",
    "OHEValidationData.cache()\n",
    "print OHEValidationData.take(1)"
   ]
  },
  {
   "cell_type": "code",
   "execution_count": 130,
   "metadata": {
    "collapsed": false
   },
   "outputs": [
    {
     "name": "stdout",
     "output_type": "stream",
     "text": [
      "1 test passed.\n"
     ]
    }
   ],
   "source": [
    "# TEST Handling unseen features (3e)\n",
    "numNZVal = (OHEValidationData\n",
    "            .map(lambda lp: len(lp.features.indices))\n",
    "            .sum())\n",
    "Test.assertEquals(numNZVal, 372080, 'incorrect number of features')"
   ]
  },
  {
   "cell_type": "markdown",
   "metadata": {},
   "source": [
    "### ** Part 4: CTR prediction and logloss evaluation **"
   ]
  },
  {
   "cell_type": "markdown",
   "metadata": {},
   "source": [
    "#### ** (4a) Logistic regression **\n",
    "#### We are now ready to train our first CTR classifier.  A natural classifier to use in this setting is logistic regression, since it models the probability of a click-through event rather than returning a binary response, and when working with rare events, probabilistic predictions are useful.  First use [LogisticRegressionWithSGD](https://spark.apache.org/docs/latest/api/python/pyspark.mllib.html#pyspark.mllib.classification.LogisticRegressionWithSGD) to train a model using `OHETrainData` with the given hyperparameter configuration.  `LogisticRegressionWithSGD` returns a [LogisticRegressionModel](https://spark.apache.org/docs/latest/api/python/pyspark.mllib.html#pyspark.mllib.regression.LogisticRegressionModel).  Next, use the `LogisticRegressionModel.weights` and `LogisticRegressionModel.intercept` attributes to print out the model's parameters.  Note that these are the names of the object's attributes and should be called using a syntax like `model.weights` for a given `model`."
   ]
  },
  {
   "cell_type": "code",
   "execution_count": 131,
   "metadata": {
    "collapsed": false
   },
   "outputs": [],
   "source": [
    "from pyspark.mllib.classification import LogisticRegressionWithSGD\n",
    "\n",
    "# fixed hyperparameters\n",
    "numIters = 50\n",
    "stepSize = 10.\n",
    "regParam = 1e-6\n",
    "regType = 'l2'\n",
    "includeIntercept = True"
   ]
  },
  {
   "cell_type": "code",
   "execution_count": 133,
   "metadata": {
    "collapsed": false
   },
   "outputs": [
    {
     "name": "stdout",
     "output_type": "stream",
     "text": [
      "[-0.4589923685357562, -0.37973707648623972, -0.3699655826675331, -0.36934962879928285, -0.32697945415010637] 0.56455084025\n"
     ]
    }
   ],
   "source": [
    "# TODO: Replace <FILL IN> with appropriate code\n",
    "model0 = LogisticRegressionWithSGD.train(OHETrainData, iterations = numIters, step = stepSize, regParam = regParam, regType = regType, intercept = includeIntercept)\n",
    "sortedWeights = sorted(model0.weights)\n",
    "print sortedWeights[:5], model0.intercept"
   ]
  },
  {
   "cell_type": "code",
   "execution_count": 134,
   "metadata": {
    "collapsed": false
   },
   "outputs": [
    {
     "name": "stdout",
     "output_type": "stream",
     "text": [
      "1 test passed.\n",
      "1 test passed.\n"
     ]
    }
   ],
   "source": [
    "# TEST Logistic regression (4a)\n",
    "Test.assertTrue(np.allclose(model0.intercept,  0.56455084025), 'incorrect value for model0.intercept')\n",
    "Test.assertTrue(np.allclose(sortedWeights[0:5],\n",
    "                [-0.45899236853575609, -0.37973707648623956, -0.36996558266753304,\n",
    "                 -0.36934962879928263, -0.32697945415010637]), 'incorrect value for model0.weights')"
   ]
  },
  {
   "cell_type": "markdown",
   "metadata": {},
   "source": [
    "#### ** (4b) Log loss **\n",
    "#### Throughout this lab, we will use log loss to evaluate the quality of models.  Log loss is defined as: $$  \\begin{align} \\scriptsize \\ell_{log}(p, y) = \\begin{cases} -\\log (p) & \\text{if } y = 1 \\\\\\ -\\log(1-p) & \\text{if } y = 0 \\end{cases} \\end{align} $$ where $ \\scriptsize p$ is a probability between 0 and 1 and $ \\scriptsize y$ is a label of either 0 or 1. Log loss is a standard evaluation criterion when predicting rare-events such as click-through rate prediction (it is also the criterion used in the [Criteo Kaggle competition](https://www.kaggle.com/c/criteo-display-ad-challenge)).  Write a function to compute log loss, and evaluate it on some sample inputs."
   ]
  },
  {
   "cell_type": "code",
   "execution_count": 138,
   "metadata": {
    "collapsed": false
   },
   "outputs": [
    {
     "name": "stdout",
     "output_type": "stream",
     "text": [
      "0.69314718056\n",
      "0.69314718056\n",
      "0.0100503358535\n",
      "4.60517018599\n",
      "4.60517018599\n",
      "0.0100503358535\n",
      "25.3284360229\n",
      "1.00000008275e-11\n",
      "25.3284360229\n"
     ]
    }
   ],
   "source": [
    "# TODO: Replace <FILL IN> with appropriate code\n",
    "from math import log\n",
    "\n",
    "def computeLogLoss(p, y):\n",
    "    \"\"\"Calculates the value of log loss for a given probabilty and label.\n",
    "\n",
    "    Note:\n",
    "        log(0) is undefined, so when p is 0 we need to add a small value (epsilon) to it\n",
    "        and when p is 1 we need to subtract a small value (epsilon) from it.\n",
    "\n",
    "    Args:\n",
    "        p (float): A probabilty between 0 and 1.\n",
    "        y (int): A label.  Takes on the values 0 and 1.\n",
    "\n",
    "    Returns:\n",
    "        float: The log loss value.\n",
    "    \"\"\"\n",
    "    if p == 0:\n",
    "        epsilon = 10e-12\n",
    "    elif p == 1:\n",
    "        epsilon = -(10e-12)\n",
    "    else:\n",
    "        epsilon = 0\n",
    "        \n",
    "    return -y*(log(p+epsilon))-(1-y)*log(1-p-epsilon)\n",
    "\n",
    "print computeLogLoss(.5, 1)\n",
    "print computeLogLoss(.5, 0)\n",
    "print computeLogLoss(.99, 1)\n",
    "print computeLogLoss(.99, 0)\n",
    "print computeLogLoss(.01, 1)\n",
    "print computeLogLoss(.01, 0)\n",
    "print computeLogLoss(0, 1)\n",
    "print computeLogLoss(1, 1)\n",
    "print computeLogLoss(1, 0)"
   ]
  },
  {
   "cell_type": "code",
   "execution_count": 139,
   "metadata": {
    "collapsed": false
   },
   "outputs": [
    {
     "name": "stdout",
     "output_type": "stream",
     "text": [
      "1 test passed.\n",
      "1 test passed.\n"
     ]
    }
   ],
   "source": [
    "# TEST Log loss (4b)\n",
    "Test.assertTrue(np.allclose([computeLogLoss(.5, 1), computeLogLoss(.01, 0), computeLogLoss(.01, 1)],\n",
    "                            [0.69314718056, 0.0100503358535, 4.60517018599]),\n",
    "                'computeLogLoss is not correct')\n",
    "Test.assertTrue(np.allclose([computeLogLoss(0, 1), computeLogLoss(1, 1), computeLogLoss(1, 0)],\n",
    "                            [25.3284360229, 1.00000008275e-11, 25.3284360229]),\n",
    "                'computeLogLoss needs to bound p away from 0 and 1 by epsilon')"
   ]
  },
  {
   "cell_type": "markdown",
   "metadata": {},
   "source": [
    "#### ** (4c)  Baseline log loss **\n",
    "#### Next we will use the function we wrote in Part (4b) to compute the baseline log loss on the training data. A very simple yet natural baseline model is one where we always make the same prediction independent of the given datapoint, setting the predicted value equal to the fraction of training points that correspond to click-through events (i.e., where the label is one). Compute this value (which is simply the mean of the training labels), and then use it to compute the training log loss for the baseline model.  The log loss for multiple observations is the mean of the individual log loss values."
   ]
  },
  {
   "cell_type": "code",
   "execution_count": 149,
   "metadata": {
    "collapsed": false
   },
   "outputs": [
    {
     "data": {
      "text/plain": [
       "0.22717773523044305"
      ]
     },
     "execution_count": 149,
     "metadata": {},
     "output_type": "execute_result"
    }
   ],
   "source": [
    "OHETrainData.map(lambda x: x.label).mean()"
   ]
  },
  {
   "cell_type": "code",
   "execution_count": 150,
   "metadata": {
    "collapsed": false
   },
   "outputs": [
    {
     "name": "stdout",
     "output_type": "stream",
     "text": [
      "0.22717773523\n",
      "Baseline Train Logloss = 0.536\n",
      "\n"
     ]
    }
   ],
   "source": [
    "# TODO: Replace <FILL IN> with appropriate code\n",
    "# Note that our dataset has a very high click-through rate by design\n",
    "# In practice click-through rate can be one to two orders of magnitude lower\n",
    "classOneFracTrain = OHETrainData.map(lambda x: x.label).mean()\n",
    "print classOneFracTrain\n",
    "\n",
    "logLossTrBase = OHETrainData.map(lambda x: computeLogLoss(classOneFracTrain, x.label)).mean()\n",
    "print 'Baseline Train Logloss = {0:.3f}\\n'.format(logLossTrBase)"
   ]
  },
  {
   "cell_type": "code",
   "execution_count": 151,
   "metadata": {
    "collapsed": false
   },
   "outputs": [
    {
     "name": "stdout",
     "output_type": "stream",
     "text": [
      "1 test passed.\n",
      "1 test passed.\n"
     ]
    }
   ],
   "source": [
    "# TEST Baseline log loss (4c)\n",
    "Test.assertTrue(np.allclose(classOneFracTrain, 0.22717773523), 'incorrect value for classOneFracTrain')\n",
    "Test.assertTrue(np.allclose(logLossTrBase, 0.535844), 'incorrect value for logLossTrBase')"
   ]
  },
  {
   "cell_type": "markdown",
   "metadata": {},
   "source": [
    "#### ** (4d) Predicted probability **\n",
    "#### In order to compute the log loss for the model we trained in Part (4a), we need to write code to generate predictions from this model. Write a function that computes the raw linear prediction from this logistic regression model and then passes it through a [sigmoid function](http://en.wikipedia.org/wiki/Sigmoid_function) $ \\scriptsize \\sigma(t) = (1+ e^{-t})^{-1} $ to return the model's probabilistic prediction. Then compute probabilistic predictions on the training data.\n",
    "#### Note that when incorporating an intercept into our predictions, we simply add the intercept to the value of the prediction obtained from the weights and features.  Alternatively, if the intercept was included as the first weight, we would need to add a corresponding feature to our data where the feature has the value one.  This is not the case here."
   ]
  },
  {
   "cell_type": "code",
   "execution_count": 169,
   "metadata": {
    "collapsed": false
   },
   "outputs": [
    {
     "data": {
      "text/plain": [
       "0.30262882023911125"
      ]
     },
     "execution_count": 169,
     "metadata": {},
     "output_type": "execute_result"
    }
   ],
   "source": [
    "getP(OHETrainData.take(1)[0].features, model0.weights, model0.intercept)"
   ]
  },
  {
   "cell_type": "code",
   "execution_count": 170,
   "metadata": {
    "collapsed": false
   },
   "outputs": [
    {
     "name": "stdout",
     "output_type": "stream",
     "text": [
      "[0.30262882023911125, 0.10362661997434075, 0.283634247838756, 0.17846102057880114, 0.5389775379218853]\n"
     ]
    }
   ],
   "source": [
    "# TODO: Replace <FILL IN> with appropriate code\n",
    "from math import exp #  exp(-t) = e^-t\n",
    "\n",
    "def getP(x, w, intercept):\n",
    "    \"\"\"Calculate the probability for an observation given a set of weights and intercept.\n",
    "\n",
    "    Note:\n",
    "        We'll bound our raw prediction between 20 and -20 for numerical purposes.\n",
    "\n",
    "    Args:\n",
    "        x (SparseVector): A vector with values of 1.0 for features that exist in this\n",
    "            observation and 0.0 otherwise.\n",
    "        w (DenseVector): A vector of weights (betas) for the model.\n",
    "        intercept (float): The model's intercept.\n",
    "\n",
    "    Returns:\n",
    "        float: A probability between 0 and 1.\n",
    "    \"\"\"\n",
    "    rawPrediction = 1/(1+exp(-(intercept + x.dot(w))))\n",
    "\n",
    "    # Bound the raw prediction value\n",
    "    rawPrediction = min(rawPrediction, 20)\n",
    "    rawPrediction = max(rawPrediction, -20)\n",
    "    return rawPrediction\n",
    "\n",
    "trainingPredictions = OHETrainData.map(lambda x: getP(x.features, model0.weights, model0.intercept))\n",
    "\n",
    "print trainingPredictions.take(5)"
   ]
  },
  {
   "cell_type": "code",
   "execution_count": 171,
   "metadata": {
    "collapsed": false
   },
   "outputs": [
    {
     "data": {
      "text/plain": [
       "18135.483434817463"
      ]
     },
     "execution_count": 171,
     "metadata": {},
     "output_type": "execute_result"
    }
   ],
   "source": [
    "trainingPredictions.sum()"
   ]
  },
  {
   "cell_type": "code",
   "execution_count": 172,
   "metadata": {
    "collapsed": false
   },
   "outputs": [
    {
     "name": "stdout",
     "output_type": "stream",
     "text": [
      "1 test passed.\n"
     ]
    }
   ],
   "source": [
    "# TEST Predicted probability (4d)\n",
    "Test.assertTrue(np.allclose(trainingPredictions.sum(), 18135.4834348),\n",
    "                'incorrect value for trainingPredictions')"
   ]
  },
  {
   "cell_type": "markdown",
   "metadata": {},
   "source": [
    "#### ** (4e) Evaluate the model **\n",
    "#### We are now ready to evaluate the quality of the model we trained in Part (4a). To do this, first write a general function that takes as input a model and data, and outputs the log loss.  Then run this function on the OHE training data, and compare the result with the baseline log loss."
   ]
  },
  {
   "cell_type": "code",
   "execution_count": 213,
   "metadata": {
    "collapsed": false
   },
   "outputs": [
    {
     "name": "stdout",
     "output_type": "stream",
     "text": [
      "OHE Features Train Logloss:\n",
      "\tBaseline = 0.536\n",
      "\tLogReg = 0.457\n"
     ]
    }
   ],
   "source": [
    "# TODO: Replace <FILL IN> with appropriate code\n",
    "def evaluateResults(model, data):\n",
    "    \"\"\"Calculates the log loss for the data given the model.\n",
    "\n",
    "    Args:\n",
    "        model (LogisticRegressionModel): A trained logistic regression model.\n",
    "        data (RDD of LabeledPoint): Labels and features for each observation.\n",
    "\n",
    "    Returns:\n",
    "        float: Log loss for the data.\n",
    "    \"\"\"\n",
    "    return data.map(lambda x: computeLogLoss(getP(x.features,model.weights,model.intercept),x.label)).mean()\n",
    "\n",
    "logLossTrLR0 = evaluateResults(model0, OHETrainData)\n",
    "print ('OHE Features Train Logloss:\\n\\tBaseline = {0:.3f}\\n\\tLogReg = {1:.3f}'\n",
    "       .format(logLossTrBase, logLossTrLR0))"
   ]
  },
  {
   "cell_type": "code",
   "execution_count": 214,
   "metadata": {
    "collapsed": false
   },
   "outputs": [
    {
     "name": "stdout",
     "output_type": "stream",
     "text": [
      "1 test passed.\n"
     ]
    }
   ],
   "source": [
    "# TEST Evaluate the model (4e)\n",
    "Test.assertTrue(np.allclose(logLossTrLR0, 0.456903), 'incorrect value for logLossTrLR0')"
   ]
  },
  {
   "cell_type": "markdown",
   "metadata": {},
   "source": [
    "#### ** (4f) Validation log loss **\n",
    "#### Next, following the same logic as in Parts (4c) and 4(e), compute the validation log loss for both the baseline and logistic regression models. Notably, the baseline model for the validation data should still be based on the label fraction from the training dataset."
   ]
  },
  {
   "cell_type": "code",
   "execution_count": 215,
   "metadata": {
    "collapsed": false
   },
   "outputs": [
    {
     "name": "stdout",
     "output_type": "stream",
     "text": [
      "OHE Features Validation Logloss:\n",
      "\tBaseline = 0.528\n",
      "\tLogReg = 0.457\n"
     ]
    }
   ],
   "source": [
    "# TODO: Replace <FILL IN> with appropriate code\n",
    "logLossValBase = OHEValidationData.map(lambda x: computeLogLoss(classOneFracTrain, x.label)).mean()\n",
    "\n",
    "logLossValLR0 = evaluateResults(model0, OHEValidationData)\n",
    "print ('OHE Features Validation Logloss:\\n\\tBaseline = {0:.3f}\\n\\tLogReg = {1:.3f}'\n",
    "       .format(logLossValBase, logLossValLR0))"
   ]
  },
  {
   "cell_type": "code",
   "execution_count": 177,
   "metadata": {
    "collapsed": false
   },
   "outputs": [
    {
     "name": "stdout",
     "output_type": "stream",
     "text": [
      "1 test passed.\n",
      "1 test passed.\n"
     ]
    }
   ],
   "source": [
    "# TEST Validation log loss (4f)\n",
    "Test.assertTrue(np.allclose(logLossValBase, 0.527603), 'incorrect value for logLossValBase')\n",
    "Test.assertTrue(np.allclose(logLossValLR0, 0.456957), 'incorrect value for logLossValLR0')"
   ]
  },
  {
   "cell_type": "markdown",
   "metadata": {},
   "source": [
    "#### **Visualization 2: ROC curve **\n",
    "#### We will now visualize how well the model predicts our target.  To do this we generate a plot of the ROC curve.  The ROC curve shows us the trade-off between the false positive rate and true positive rate, as we liberalize the threshold required to predict a positive outcome.  A random model is represented by the dashed line."
   ]
  },
  {
   "cell_type": "code",
   "execution_count": 178,
   "metadata": {
    "collapsed": false
   },
   "outputs": [
    {
     "data": {
      "image/png": "[encoded data removed]",
      "text/plain": [
       "<matplotlib.figure.Figure at 0xaf44dd0c>"
      ]
     },
     "metadata": {},
     "output_type": "display_data"
    }
   ],
   "source": [
    "labelsAndScores = OHEValidationData.map(lambda lp:\n",
    "                                            (lp.label, getP(lp.features, model0.weights, model0.intercept)))\n",
    "labelsAndWeights = labelsAndScores.collect()\n",
    "labelsAndWeights.sort(key=lambda (k, v): v, reverse=True)\n",
    "labelsByWeight = np.array([k for (k, v) in labelsAndWeights])\n",
    "\n",
    "length = labelsByWeight.size\n",
    "truePositives = labelsByWeight.cumsum()\n",
    "numPositive = truePositives[-1]\n",
    "falsePositives = np.arange(1.0, length + 1, 1.) - truePositives\n",
    "\n",
    "truePositiveRate = truePositives / numPositive\n",
    "falsePositiveRate = falsePositives / (length - numPositive)\n",
    "\n",
    "# Generate layout and plot data\n",
    "fig, ax = preparePlot(np.arange(0., 1.1, 0.1), np.arange(0., 1.1, 0.1))\n",
    "ax.set_xlim(-.05, 1.05), ax.set_ylim(-.05, 1.05)\n",
    "ax.set_ylabel('True Positive Rate (Sensitivity)')\n",
    "ax.set_xlabel('False Positive Rate (1 - Specificity)')\n",
    "plt.plot(falsePositiveRate, truePositiveRate, color='#8cbfd0', linestyle='-', linewidth=3.)\n",
    "plt.plot((0., 1.), (0., 1.), linestyle='--', color='#d6ebf2', linewidth=2.)  # Baseline model\n",
    "pass"
   ]
  },
  {
   "cell_type": "markdown",
   "metadata": {},
   "source": [
    "### **Part 5: Reduce feature dimension via feature hashing**"
   ]
  },
  {
   "cell_type": "markdown",
   "metadata": {},
   "source": [
    "#### ** (5a) Hash function **\n",
    "#### As we just saw, using a one-hot-encoding featurization can yield a model with good statistical accuracy.  However, the number of distinct categories across all features is quite large -- recall that we observed 233K categories in the training data in Part (3c).  Moreover, the full Kaggle training dataset includes more than 33M distinct categories, and the Kaggle dataset itself is just a small subset of Criteo's labeled data.  Hence, featurizing via a one-hot-encoding representation would lead to a very large feature vector. To reduce the dimensionality of the feature space, we will use feature hashing.\n",
    "####Below is the hash function that we will use for this part of the lab.  We will first use this hash function with the three sample data points from Part (1a) to gain some intuition.  Specifically, run code to hash the three sample points using two different values for `numBuckets` and observe the resulting hashed feature dictionaries."
   ]
  },
  {
   "cell_type": "code",
   "execution_count": 180,
   "metadata": {
    "collapsed": false
   },
   "outputs": [],
   "source": [
    "from collections import defaultdict\n",
    "import hashlib\n",
    "\n",
    "def hashFunction(numBuckets, rawFeats, printMapping=False):\n",
    "    \"\"\"Calculate a feature dictionary for an observation's features based on hashing.\n",
    "\n",
    "    Note:\n",
    "        Use printMapping=True for debug purposes and to better understand how the hashing works.\n",
    "\n",
    "    Args:\n",
    "        numBuckets (int): Number of buckets to use as features.\n",
    "        rawFeats (list of (int, str)): A list of features for an observation.  Represented as\n",
    "            (featureID, value) tuples.\n",
    "        printMapping (bool, optional): If true, the mappings of featureString to index will be\n",
    "            printed.\n",
    "\n",
    "    Returns:\n",
    "        dict of int to float:  The keys will be integers which represent the buckets that the\n",
    "            features have been hashed to.  The value for a given key will contain the count of the\n",
    "            (featureID, value) tuples that have hashed to that key.\n",
    "    \"\"\"\n",
    "    mapping = {}\n",
    "    for ind, category in rawFeats:\n",
    "        featureString = category + str(ind)\n",
    "        mapping[featureString] = int(int(hashlib.md5(featureString).hexdigest(), 16) % numBuckets)\n",
    "    if(printMapping): print mapping\n",
    "    sparseFeatures = defaultdict(float)\n",
    "    for bucket in mapping.values():\n",
    "        sparseFeatures[bucket] += 1.0\n",
    "    return dict(sparseFeatures)\n",
    "\n",
    "# Reminder of the sample values:\n",
    "# sampleOne = [(0, 'mouse'), (1, 'black')]\n",
    "# sampleTwo = [(0, 'cat'), (1, 'tabby'), (2, 'mouse')]\n",
    "# sampleThree =  [(0, 'bear'), (1, 'black'), (2, 'salmon')]"
   ]
  },
  {
   "cell_type": "code",
   "execution_count": 183,
   "metadata": {
    "collapsed": false
   },
   "outputs": [
    {
     "name": "stdout",
     "output_type": "stream",
     "text": [
      "{'black1': 2, 'mouse0': 3}\n",
      "{'cat0': 0, 'tabby1': 0, 'mouse2': 2}\n",
      "{'bear0': 0, 'black1': 2, 'salmon2': 1}\n",
      "{'black1': 14, 'mouse0': 31}\n",
      "{'cat0': 40, 'tabby1': 16, 'mouse2': 62}\n",
      "{'bear0': 72, 'black1': 14, 'salmon2': 5}\n",
      "\t\t 4 Buckets \t\t\t 100 Buckets\n",
      "SampleOne:\t {2: 1.0, 3: 1.0}\t\t {14: 1.0, 31: 1.0}\n",
      "SampleTwo:\t {0: 2.0, 2: 1.0}\t\t {40: 1.0, 16: 1.0, 62: 1.0}\n",
      "SampleThree:\t {0: 1.0, 1: 1.0, 2: 1.0}\t {72: 1.0, 5: 1.0, 14: 1.0}\n"
     ]
    }
   ],
   "source": [
    "# TODO: Replace <FILL IN> with appropriate code\n",
    "# Use four buckets\n",
    "sampOneFourBuckets = hashFunction(4, sampleOne, True)\n",
    "sampTwoFourBuckets = hashFunction(4, sampleTwo, True)\n",
    "sampThreeFourBuckets = hashFunction(4, sampleThree, True)\n",
    "\n",
    "# Use one hundred buckets\n",
    "sampOneHundredBuckets = hashFunction(100, sampleOne, True)\n",
    "sampTwoHundredBuckets = hashFunction(100, sampleTwo, True)\n",
    "sampThreeHundredBuckets = hashFunction(100, sampleThree, True)\n",
    "\n",
    "print '\\t\\t 4 Buckets \\t\\t\\t 100 Buckets'\n",
    "print 'SampleOne:\\t {0}\\t\\t {1}'.format(sampOneFourBuckets, sampOneHundredBuckets)\n",
    "print 'SampleTwo:\\t {0}\\t\\t {1}'.format(sampTwoFourBuckets, sampTwoHundredBuckets)\n",
    "print 'SampleThree:\\t {0}\\t {1}'.format(sampThreeFourBuckets, sampThreeHundredBuckets)"
   ]
  },
  {
   "cell_type": "code",
   "execution_count": 184,
   "metadata": {
    "collapsed": false
   },
   "outputs": [
    {
     "name": "stdout",
     "output_type": "stream",
     "text": [
      "1 test passed.\n",
      "1 test passed.\n"
     ]
    }
   ],
   "source": [
    "# TEST Hash function (5a)\n",
    "Test.assertEquals(sampOneFourBuckets, {2: 1.0, 3: 1.0}, 'incorrect value for sampOneFourBuckets')\n",
    "Test.assertEquals(sampThreeHundredBuckets, {72: 1.0, 5: 1.0, 14: 1.0},\n",
    "                  'incorrect value for sampThreeHundredBuckets')"
   ]
  },
  {
   "cell_type": "markdown",
   "metadata": {},
   "source": [
    "#### ** (5b) Creating hashed features **\n",
    "#### Next we will use this hash function to create hashed features for our CTR datasets. First write a function that uses the hash function from Part (5a) with numBuckets = $ \\scriptsize 2^{15} \\approx 33K $ to create a `LabeledPoint` with hashed features stored as a `SparseVector`.  Then use this function to create new training, validation and test datasets with hashed features. Hint: `parsedHashPoint` is similar to `parseOHEPoint` from Part (3d)."
   ]
  },
  {
   "cell_type": "code",
   "execution_count": 188,
   "metadata": {
    "collapsed": false
   },
   "outputs": [
    {
     "name": "stdout",
     "output_type": "stream",
     "text": [
      "[LabeledPoint(0.0, (32768,[1305,2883,3807,4814,4866,4913,6952,7117,9985,10316,11512,11722,12365,13893,14735,15816,16198,17761,19274,21604,22256,22563,22785,24855,25202,25533,25721,26487,26656,27668,28211,29152,29402,29873,30039,31484,32493,32708],[1.0,1.0,1.0,1.0,1.0,1.0,1.0,1.0,1.0,1.0,1.0,1.0,1.0,1.0,1.0,1.0,1.0,1.0,1.0,1.0,1.0,1.0,1.0,1.0,1.0,1.0,1.0,1.0,1.0,1.0,1.0,1.0,1.0,1.0,1.0,1.0,1.0,1.0]))]\n"
     ]
    }
   ],
   "source": [
    "# TODO: Replace <FILL IN> with appropriate code\n",
    "def parseHashPoint(point, numBuckets):\n",
    "    \"\"\"Create a LabeledPoint for this observation using hashing.\n",
    "\n",
    "    Args:\n",
    "        point (str): A comma separated string where the first value is the label and the rest are\n",
    "            features.\n",
    "        numBuckets: The number of buckets to hash to.\n",
    "\n",
    "    Returns:\n",
    "        LabeledPoint: A LabeledPoint with a label (0.0 or 1.0) and a SparseVector of hashed\n",
    "            features.\n",
    "    \"\"\"\n",
    "    return LabeledPoint(point.split(',')[0], SparseVector(numBuckets, hashFunction(numBuckets, parsePoint(point), False)))\n",
    "\n",
    "numBucketsCTR = 2 ** 15\n",
    "hashTrainData = rawTrainData.map(lambda x: parseHashPoint(x, numBucketsCTR))\n",
    "hashTrainData.cache()\n",
    "hashValidationData = rawValidationData.map(lambda x: parseHashPoint(x, numBucketsCTR))\n",
    "hashValidationData.cache()\n",
    "hashTestData = rawTestData.map(lambda x: parseHashPoint(x, numBucketsCTR))\n",
    "hashTestData.cache()\n",
    "\n",
    "print hashTrainData.take(1)"
   ]
  },
  {
   "cell_type": "code",
   "execution_count": 189,
   "metadata": {
    "collapsed": false
   },
   "outputs": [
    {
     "name": "stdout",
     "output_type": "stream",
     "text": [
      "1 test passed.\n",
      "1 test passed.\n",
      "1 test passed.\n",
      "1 test passed.\n",
      "1 test passed.\n",
      "1 test passed.\n"
     ]
    }
   ],
   "source": [
    "# TEST Creating hashed features (5b)\n",
    "hashTrainDataFeatureSum = sum(hashTrainData\n",
    "                           .map(lambda lp: len(lp.features.indices))\n",
    "                           .take(20))\n",
    "hashTrainDataLabelSum = sum(hashTrainData\n",
    "                         .map(lambda lp: lp.label)\n",
    "                         .take(100))\n",
    "hashValidationDataFeatureSum = sum(hashValidationData\n",
    "                                .map(lambda lp: len(lp.features.indices))\n",
    "                                .take(20))\n",
    "hashValidationDataLabelSum = sum(hashValidationData\n",
    "                              .map(lambda lp: lp.label)\n",
    "                              .take(100))\n",
    "hashTestDataFeatureSum = sum(hashTestData\n",
    "                          .map(lambda lp: len(lp.features.indices))\n",
    "                          .take(20))\n",
    "hashTestDataLabelSum = sum(hashTestData\n",
    "                        .map(lambda lp: lp.label)\n",
    "                        .take(100))\n",
    "\n",
    "Test.assertEquals(hashTrainDataFeatureSum, 772, 'incorrect number of features in hashTrainData')\n",
    "Test.assertEquals(hashTrainDataLabelSum, 24.0, 'incorrect labels in hashTrainData')\n",
    "Test.assertEquals(hashValidationDataFeatureSum, 776,\n",
    "                  'incorrect number of features in hashValidationData')\n",
    "Test.assertEquals(hashValidationDataLabelSum, 16.0, 'incorrect labels in hashValidationData')\n",
    "Test.assertEquals(hashTestDataFeatureSum, 774, 'incorrect number of features in hashTestData')\n",
    "Test.assertEquals(hashTestDataLabelSum, 23.0, 'incorrect labels in hashTestData')"
   ]
  },
  {
   "cell_type": "markdown",
   "metadata": {},
   "source": [
    "#### ** (5c) Sparsity **\n",
    "#### Since we have 33K hashed features versus 233K OHE features, we should expect OHE features to be sparser. Verify this hypothesis by computing the average sparsity of the OHE and the hashed training datasets.\n",
    "#### Note that if you have a `SparseVector` named `sparse`, calling `len(sparse)` returns the total number of features, not the number features with entries.  `SparseVector` objects have the attributes `indices` and `values` that contain information about which features are nonzero.  Continuing with our example, these can be accessed using `sparse.indices` and `sparse.values`, respectively."
   ]
  },
  {
   "cell_type": "code",
   "execution_count": 201,
   "metadata": {
    "collapsed": false
   },
   "outputs": [
    {
     "data": {
      "text/plain": [
       "233286"
      ]
     },
     "execution_count": 201,
     "metadata": {},
     "output_type": "execute_result"
    }
   ],
   "source": [
    "len(OHETrainData.take(1)[0].features)"
   ]
  },
  {
   "cell_type": "code",
   "execution_count": 207,
   "metadata": {
    "collapsed": false
   },
   "outputs": [
    {
     "name": "stdout",
     "output_type": "stream",
     "text": [
      "Average OHE Sparsity: 1.6717677e-04\n",
      "Average Hash Sparsity: 1.1805561e-03\n"
     ]
    }
   ],
   "source": [
    "# TODO: Replace <FILL IN> with appropriate code\n",
    "def computeSparsity(data, d, n):\n",
    "    \"\"\"Calculates the average sparsity for the features in an RDD of LabeledPoints.\n",
    "\n",
    "    Args:\n",
    "        data (RDD of LabeledPoint): The LabeledPoints to use in the sparsity calculation.\n",
    "        d (int): The total number of features.\n",
    "        n (int): The number of observations in the RDD.\n",
    "\n",
    "    Returns:\n",
    "        float: The average of the ratio of features in a point to total features.\n",
    "    \"\"\"\n",
    "    return data.map(lambda x: len(x.features.indices)/float(d)).mean()\n",
    "\n",
    "averageSparsityHash = computeSparsity(hashTrainData, numBucketsCTR, nTrain)\n",
    "averageSparsityOHE = computeSparsity(OHETrainData, numCtrOHEFeats, nTrain)\n",
    "\n",
    "print 'Average OHE Sparsity: {0:.7e}'.format(averageSparsityOHE)\n",
    "print 'Average Hash Sparsity: {0:.7e}'.format(averageSparsityHash)"
   ]
  },
  {
   "cell_type": "code",
   "execution_count": 208,
   "metadata": {
    "collapsed": false
   },
   "outputs": [
    {
     "name": "stdout",
     "output_type": "stream",
     "text": [
      "1 test passed.\n",
      "1 test passed.\n"
     ]
    }
   ],
   "source": [
    "# TEST Sparsity (5c)\n",
    "Test.assertTrue(np.allclose(averageSparsityOHE, 1.6717677e-04),\n",
    "                'incorrect value for averageSparsityOHE')\n",
    "Test.assertTrue(np.allclose(averageSparsityHash, 1.1805561e-03),\n",
    "                'incorrect value for averageSparsityHash')"
   ]
  },
  {
   "cell_type": "markdown",
   "metadata": {},
   "source": [
    "#### ** (5d) Logistic model with hashed features **\n",
    "#### Now let's train a logistic regression model using the hashed features. Run a grid search to find suitable hyperparameters for the hashed features, evaluating via log loss on the validation data. Note: This may take a few minutes to run. Use `1` and `10` for `stepSizes` and `1e-6` and `1e-3` for `regParams`."
   ]
  },
  {
   "cell_type": "code",
   "execution_count": 209,
   "metadata": {
    "collapsed": false
   },
   "outputs": [],
   "source": [
    "numIters = 500\n",
    "regType = 'l2'\n",
    "includeIntercept = True\n",
    "\n",
    "# Initialize variables using values from initial model training\n",
    "bestModel = None\n",
    "bestLogLoss = 1e10"
   ]
  },
  {
   "cell_type": "code",
   "execution_count": 216,
   "metadata": {
    "collapsed": false
   },
   "outputs": [
    {
     "name": "stdout",
     "output_type": "stream",
     "text": [
      "\tstepSize = 1.0, regParam = 1e-06: logloss = 0.470\n",
      "\tstepSize = 1.0, regParam = 1e-03: logloss = 0.470\n",
      "\tstepSize = 10.0, regParam = 1e-06: logloss = 0.448\n",
      "\tstepSize = 10.0, regParam = 1e-03: logloss = 0.450\n",
      "Hashed Features Validation Logloss:\n",
      "\tBaseline = 0.528\n",
      "\tLogReg = 0.448\n"
     ]
    }
   ],
   "source": [
    "# TODO: Replace <FILL IN> with appropriate code\n",
    "stepSizes = [1,10]\n",
    "regParams = [1e-6,1e-3]\n",
    "for stepSize in stepSizes:\n",
    "    for regParam in regParams:\n",
    "        model = (LogisticRegressionWithSGD\n",
    "                 .train(hashTrainData, numIters, stepSize, regParam=regParam, regType=regType,\n",
    "                        intercept=includeIntercept))\n",
    "        logLossVa = evaluateResults(model, hashValidationData)\n",
    "        print ('\\tstepSize = {0:.1f}, regParam = {1:.0e}: logloss = {2:.3f}'\n",
    "               .format(stepSize, regParam, logLossVa))\n",
    "        if (logLossVa < bestLogLoss):\n",
    "            bestModel = model\n",
    "            bestLogLoss = logLossVa\n",
    "\n",
    "print ('Hashed Features Validation Logloss:\\n\\tBaseline = {0:.3f}\\n\\tLogReg = {1:.3f}'\n",
    "       .format(logLossValBase, bestLogLoss))"
   ]
  },
  {
   "cell_type": "code",
   "execution_count": 217,
   "metadata": {
    "collapsed": false
   },
   "outputs": [
    {
     "name": "stdout",
     "output_type": "stream",
     "text": [
      "1 test passed.\n"
     ]
    }
   ],
   "source": [
    "# TEST Logistic model with hashed features (5d)\n",
    "Test.assertTrue(np.allclose(bestLogLoss, 0.4481683608), 'incorrect value for bestLogLoss')"
   ]
  },
  {
   "cell_type": "markdown",
   "metadata": {},
   "source": [
    "#### **Visualization 3: Hyperparameter heat map**\n",
    "#### We will now perform a visualization of an extensive hyperparameter search.  Specifically, we will create a heat map where the brighter colors correspond to lower values of `logLoss`.\n",
    "#### The search was run using six step sizes and six values for regularization, which required the training of thirty-six separate models.  We have included the results below, but omitted the actual search to save time."
   ]
  },
  {
   "cell_type": "code",
   "execution_count": 218,
   "metadata": {
    "collapsed": false
   },
   "outputs": [
    {
     "data": {
      "image/png": "[encoded data removed]",
      "text/plain": [
       "<matplotlib.figure.Figure at 0xb090b5ec>"
      ]
     },
     "metadata": {},
     "output_type": "display_data"
    }
   ],
   "source": [
    "from matplotlib.colors import LinearSegmentedColormap\n",
    "\n",
    "# Saved parameters and results.  Eliminate the time required to run 36 models\n",
    "stepSizes = [3, 6, 9, 12, 15, 18]\n",
    "regParams = [1e-7, 1e-6, 1e-5, 1e-4, 1e-3, 1e-2]\n",
    "logLoss = np.array([[ 0.45808431,  0.45808493,  0.45809113,  0.45815333,  0.45879221,  0.46556321],\n",
    "                    [ 0.45188196,  0.45188306,  0.4518941,   0.4520051,   0.45316284,  0.46396068],\n",
    "                    [ 0.44886478,  0.44886613,  0.44887974,  0.44902096,  0.4505614,   0.46371153],\n",
    "                    [ 0.44706645,  0.4470698,   0.44708102,  0.44724251,  0.44905525,  0.46366507],\n",
    "                    [ 0.44588848,  0.44589365,  0.44590568,  0.44606631,  0.44807106,  0.46365589],\n",
    "                    [ 0.44508948,  0.44509474,  0.44510274,  0.44525007,  0.44738317,  0.46365405]])\n",
    "\n",
    "numRows, numCols = len(stepSizes), len(regParams)\n",
    "logLoss = np.array(logLoss)\n",
    "logLoss.shape = (numRows, numCols)\n",
    "\n",
    "fig, ax = preparePlot(np.arange(0, numCols, 1), np.arange(0, numRows, 1), figsize=(8, 7),\n",
    "                      hideLabels=True, gridWidth=0.)\n",
    "ax.set_xticklabels(regParams), ax.set_yticklabels(stepSizes)\n",
    "ax.set_xlabel('Regularization Parameter'), ax.set_ylabel('Step Size')\n",
    "\n",
    "colors = LinearSegmentedColormap.from_list('blue', ['#0022ff', '#000055'], gamma=.2)\n",
    "image = plt.imshow(logLoss,interpolation='nearest', aspect='auto',\n",
    "                    cmap = colors)\n",
    "pass"
   ]
  },
  {
   "cell_type": "markdown",
   "metadata": {},
   "source": [
    "#### ** (5e) Evaluate on the test set **\n",
    "#### Finally, evaluate the best model from Part (5d) on the test set.  Compare the resulting log loss with the baseline log loss on the test set, which can be computed in the same way that the validation log loss was computed in Part (4f)."
   ]
  },
  {
   "cell_type": "code",
   "execution_count": 220,
   "metadata": {
    "collapsed": false
   },
   "outputs": [
    {
     "name": "stdout",
     "output_type": "stream",
     "text": [
      "Hashed Features Test Log Loss:\n",
      "\tBaseline = 0.537\n",
      "\tLogReg = 0.456\n"
     ]
    }
   ],
   "source": [
    "# TODO: Replace <FILL IN> with appropriate code\n",
    "# Log loss for the best model from (5d)\n",
    "logLossTest = evaluateResults(bestModel, hashTestData)\n",
    "\n",
    "# Log loss for the baseline model\n",
    "logLossTestBaseline = hashTestData.map(lambda x: computeLogLoss(classOneFracTrain, x.label)).mean()\n",
    "\n",
    "print ('Hashed Features Test Log Loss:\\n\\tBaseline = {0:.3f}\\n\\tLogReg = {1:.3f}'\n",
    "       .format(logLossTestBaseline, logLossTest))"
   ]
  },
  {
   "cell_type": "code",
   "execution_count": 221,
   "metadata": {
    "collapsed": false
   },
   "outputs": [
    {
     "name": "stdout",
     "output_type": "stream",
     "text": [
      "1 test passed.\n",
      "1 test passed.\n"
     ]
    }
   ],
   "source": [
    "# TEST Evaluate on the test set (5e)\n",
    "Test.assertTrue(np.allclose(logLossTestBaseline, 0.537438),\n",
    "                'incorrect value for logLossTestBaseline')\n",
    "Test.assertTrue(np.allclose(logLossTest, 0.455616931), 'incorrect value for logLossTest')"
   ]
  },
  {
   "cell_type": "code",
   "execution_count": null,
   "metadata": {
    "collapsed": true
   },
   "outputs": [],
   "source": []
  }
 ],
 "metadata": {
  "kernelspec": {
   "display_name": "Python 2",
   "language": "python",
   "name": "python2"
  },
  "language_info": {
   "codemirror_mode": {
    "name": "ipython",
    "version": 2
   },
   "file_extension": ".py",
   "mimetype": "text/x-python",
   "name": "python",
   "nbconvert_exporter": "python",
   "pygments_lexer": "ipython2",
   "version": "2.7.11"
  },
  "latex_envs": {
   "bibliofile": "biblio.bib",
   "cite_by": "apalike",
   "current_citInitial": 1,
   "eqLabelWithNumbers": true,
   "eqNumInitial": 0
  }
 },
 "nbformat": 4,
 "nbformat_minor": 0
}
